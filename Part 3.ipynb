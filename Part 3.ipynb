{
 "metadata": {
  "language_info": {
   "codemirror_mode": {
    "name": "ipython",
    "version": 3
   },
   "file_extension": ".py",
   "mimetype": "text/x-python",
   "name": "python",
   "nbconvert_exporter": "python",
   "pygments_lexer": "ipython3",
   "version": 3
  },
  "orig_nbformat": 2,
  "kernelspec": {
   "name": "python_defaultSpec_1595864896919",
   "display_name": "Python 3.7.6 64-bit ('Elias': virtualenv)"
  }
 },
 "nbformat": 4,
 "nbformat_minor": 2,
 "cells": [
  {
   "cell_type": "markdown",
   "metadata": {},
   "source": [
    "Part 3"
   ]
  },
  {
   "cell_type": "code",
   "execution_count": 5,
   "metadata": {
    "tags": []
   },
   "outputs": [
    {
     "output_type": "error",
     "ename": "ModuleNotFoundError",
     "evalue": "No module named 'folium'",
     "traceback": [
      "\u001b[1;31m---------------------------------------------------------------------------\u001b[0m",
      "\u001b[1;31mModuleNotFoundError\u001b[0m                       Traceback (most recent call last)",
      "\u001b[1;32m<ipython-input-5-9ca80ad40ec5>\u001b[0m in \u001b[0;36m<module>\u001b[1;34m\u001b[0m\n\u001b[0;32m      5\u001b[0m \u001b[1;32mimport\u001b[0m \u001b[0mos\u001b[0m\u001b[1;33m\u001b[0m\u001b[1;33m\u001b[0m\u001b[0m\n\u001b[0;32m      6\u001b[0m \u001b[1;32mfrom\u001b[0m \u001b[0msklearn\u001b[0m\u001b[1;33m.\u001b[0m\u001b[0mcluster\u001b[0m \u001b[1;32mimport\u001b[0m \u001b[0mKMeans\u001b[0m\u001b[1;33m\u001b[0m\u001b[1;33m\u001b[0m\u001b[0m\n\u001b[1;32m----> 7\u001b[1;33m \u001b[1;32mimport\u001b[0m \u001b[0mfolium\u001b[0m\u001b[1;33m\u001b[0m\u001b[1;33m\u001b[0m\u001b[0m\n\u001b[0m\u001b[0;32m      8\u001b[0m \u001b[1;32mfrom\u001b[0m \u001b[0mgeopy\u001b[0m\u001b[1;33m.\u001b[0m\u001b[0mgeocoders\u001b[0m \u001b[1;32mimport\u001b[0m \u001b[0mNominatim\u001b[0m\u001b[1;33m\u001b[0m\u001b[1;33m\u001b[0m\u001b[0m\n\u001b[0;32m      9\u001b[0m \u001b[1;32mimport\u001b[0m \u001b[0mmatplotlib\u001b[0m\u001b[1;33m.\u001b[0m\u001b[0mcm\u001b[0m \u001b[1;32mas\u001b[0m \u001b[0mcm\u001b[0m\u001b[1;33m\u001b[0m\u001b[1;33m\u001b[0m\u001b[0m\n",
      "\u001b[1;31mModuleNotFoundError\u001b[0m: No module named 'folium'"
     ]
    }
   ],
   "source": [
    "import pandas as pd\n",
    "import numpy as np\n",
    "import requests\n",
    "from bs4 import BeautifulSoup\n",
    "import os\n",
    "from sklearn.cluster import KMeans\n",
    "import folium \n",
    "from geopy.geocoders import Nominatim \n",
    "import matplotlib.cm as cm\n",
    "import matplotlib.colors as colors\n",
    "\n",
    "\n",
    "print('Libraries imported.')\n"
   ]
  },
  {
   "cell_type": "code",
   "execution_count": 6,
   "metadata": {},
   "outputs": [],
   "source": [
    "List_url='https://en.wikipedia.org/wiki/List_of_postal_codes_of_Canada:_M'\n",
    "source = requests.get(List_url).text"
   ]
  },
  {
   "cell_type": "code",
   "execution_count": 7,
   "metadata": {},
   "outputs": [],
   "source": [
    "soup = BeautifulSoup(source, 'xml')\n",
    "table=soup.find('table')\n",
    "column_names=['Postalcode','Borough','Neighborhood']\n",
    "df = pd.DataFrame(columns=column_names)"
   ]
  },
  {
   "cell_type": "code",
   "execution_count": 8,
   "metadata": {},
   "outputs": [],
   "source": [
    "for tr_cell in table.find_all('tr'):\n",
    "    row_data=[]\n",
    "    for td_cell in tr_cell.find_all('td'):\n",
    "        row_data.append(td_cell.text.strip())\n",
    "    if len(row_data)==3:\n",
    "        df.loc[len(df)] = row_data\n",
    "        df.head()"
   ]
  },
  {
   "cell_type": "code",
   "execution_count": 9,
   "metadata": {},
   "outputs": [],
   "source": [
    "df=df[df['Borough']!='Not assigned']\n"
   ]
  },
  {
   "cell_type": "code",
   "execution_count": 11,
   "metadata": {},
   "outputs": [
    {
     "output_type": "execute_result",
     "data": {
      "text/plain": "  Postalcode           Borough                                 Neighborhood\n2        M3A        North York                                    Parkwoods\n3        M4A        North York                             Victoria Village\n4        M5A  Downtown Toronto                    Regent Park, Harbourfront\n5        M6A        North York             Lawrence Manor, Lawrence Heights\n6        M7A  Downtown Toronto  Queen's Park, Ontario Provincial Government",
      "text/html": "<div>\n<style scoped>\n    .dataframe tbody tr th:only-of-type {\n        vertical-align: middle;\n    }\n\n    .dataframe tbody tr th {\n        vertical-align: top;\n    }\n\n    .dataframe thead th {\n        text-align: right;\n    }\n</style>\n<table border=\"1\" class=\"dataframe\">\n  <thead>\n    <tr style=\"text-align: right;\">\n      <th></th>\n      <th>Postalcode</th>\n      <th>Borough</th>\n      <th>Neighborhood</th>\n    </tr>\n  </thead>\n  <tbody>\n    <tr>\n      <th>2</th>\n      <td>M3A</td>\n      <td>North York</td>\n      <td>Parkwoods</td>\n    </tr>\n    <tr>\n      <th>3</th>\n      <td>M4A</td>\n      <td>North York</td>\n      <td>Victoria Village</td>\n    </tr>\n    <tr>\n      <th>4</th>\n      <td>M5A</td>\n      <td>Downtown Toronto</td>\n      <td>Regent Park, Harbourfront</td>\n    </tr>\n    <tr>\n      <th>5</th>\n      <td>M6A</td>\n      <td>North York</td>\n      <td>Lawrence Manor, Lawrence Heights</td>\n    </tr>\n    <tr>\n      <th>6</th>\n      <td>M7A</td>\n      <td>Downtown Toronto</td>\n      <td>Queen's Park, Ontario Provincial Government</td>\n    </tr>\n  </tbody>\n</table>\n</div>"
     },
     "metadata": {},
     "execution_count": 11
    }
   ],
   "source": [
    "df.head()"
   ]
  },
  {
   "cell_type": "code",
   "execution_count": 12,
   "metadata": {},
   "outputs": [],
   "source": [
    "temp_df=df.groupby('Postalcode')['Neighborhood'].apply(lambda x: \"%s\" % ', '.join(x))\n",
    "temp_df=temp_df.reset_index(drop=False)\n",
    "temp_df.rename(columns={'Neighborhood':'Neighborhood_joined'},inplace=True)"
   ]
  },
  {
   "cell_type": "code",
   "execution_count": 13,
   "metadata": {},
   "outputs": [],
   "source": [
    "df_merge = pd.merge(df, temp_df, on='Postalcode')\n"
   ]
  },
  {
   "cell_type": "code",
   "execution_count": 14,
   "metadata": {},
   "outputs": [],
   "source": [
    "df_merge.drop(['Neighborhood'],axis=1,inplace=True)\n"
   ]
  },
  {
   "cell_type": "code",
   "execution_count": 15,
   "metadata": {},
   "outputs": [],
   "source": [
    "df_merge.drop_duplicates(inplace=True)"
   ]
  },
  {
   "cell_type": "code",
   "execution_count": 16,
   "metadata": {},
   "outputs": [],
   "source": [
    "df_merge.rename(columns={'Neighborhood_joined':'Neighborhood'},inplace=True)"
   ]
  },
  {
   "cell_type": "code",
   "execution_count": 17,
   "metadata": {},
   "outputs": [
    {
     "output_type": "execute_result",
     "data": {
      "text/plain": "  Postalcode           Borough                                 Neighborhood\n0        M3A        North York                                    Parkwoods\n1        M4A        North York                             Victoria Village\n2        M5A  Downtown Toronto                    Regent Park, Harbourfront\n3        M6A        North York             Lawrence Manor, Lawrence Heights\n4        M7A  Downtown Toronto  Queen's Park, Ontario Provincial Government",
      "text/html": "<div>\n<style scoped>\n    .dataframe tbody tr th:only-of-type {\n        vertical-align: middle;\n    }\n\n    .dataframe tbody tr th {\n        vertical-align: top;\n    }\n\n    .dataframe thead th {\n        text-align: right;\n    }\n</style>\n<table border=\"1\" class=\"dataframe\">\n  <thead>\n    <tr style=\"text-align: right;\">\n      <th></th>\n      <th>Postalcode</th>\n      <th>Borough</th>\n      <th>Neighborhood</th>\n    </tr>\n  </thead>\n  <tbody>\n    <tr>\n      <th>0</th>\n      <td>M3A</td>\n      <td>North York</td>\n      <td>Parkwoods</td>\n    </tr>\n    <tr>\n      <th>1</th>\n      <td>M4A</td>\n      <td>North York</td>\n      <td>Victoria Village</td>\n    </tr>\n    <tr>\n      <th>2</th>\n      <td>M5A</td>\n      <td>Downtown Toronto</td>\n      <td>Regent Park, Harbourfront</td>\n    </tr>\n    <tr>\n      <th>3</th>\n      <td>M6A</td>\n      <td>North York</td>\n      <td>Lawrence Manor, Lawrence Heights</td>\n    </tr>\n    <tr>\n      <th>4</th>\n      <td>M7A</td>\n      <td>Downtown Toronto</td>\n      <td>Queen's Park, Ontario Provincial Government</td>\n    </tr>\n  </tbody>\n</table>\n</div>"
     },
     "metadata": {},
     "execution_count": 17
    }
   ],
   "source": [
    "df_merge.head()"
   ]
  },
  {
   "cell_type": "code",
   "execution_count": 18,
   "metadata": {},
   "outputs": [
    {
     "output_type": "execute_result",
     "data": {
      "text/plain": "(103, 3)"
     },
     "metadata": {},
     "execution_count": 18
    }
   ],
   "source": [
    "df_merge.shape"
   ]
  },
  {
   "cell_type": "code",
   "execution_count": 19,
   "metadata": {},
   "outputs": [],
   "source": [
    "def get_geocode(postal_code):\n",
    "    # initialize your variable to None\n",
    "    lat_lng_coords = None\n",
    "    while(lat_lng_coords is None):\n",
    "        g = geocoder.google('{}, Toronto, Ontario'.format(postal_code))\n",
    "        lat_lng_coords = g.latlng\n",
    "    latitude = lat_lng_coords[0]\n",
    "    longitude = lat_lng_coords[1]\n",
    "    return latitude,longitude"
   ]
  },
  {
   "cell_type": "code",
   "execution_count": 20,
   "metadata": {},
   "outputs": [],
   "source": [
    "geo_df=pd.read_csv('http://cocl.us/Geospatial_data')"
   ]
  },
  {
   "cell_type": "code",
   "execution_count": 22,
   "metadata": {},
   "outputs": [
    {
     "output_type": "execute_result",
     "data": {
      "text/plain": "  Postal Code   Latitude  Longitude\n0         M1B  43.806686 -79.194353\n1         M1C  43.784535 -79.160497\n2         M1E  43.763573 -79.188711\n3         M1G  43.770992 -79.216917\n4         M1H  43.773136 -79.239476",
      "text/html": "<div>\n<style scoped>\n    .dataframe tbody tr th:only-of-type {\n        vertical-align: middle;\n    }\n\n    .dataframe tbody tr th {\n        vertical-align: top;\n    }\n\n    .dataframe thead th {\n        text-align: right;\n    }\n</style>\n<table border=\"1\" class=\"dataframe\">\n  <thead>\n    <tr style=\"text-align: right;\">\n      <th></th>\n      <th>Postal Code</th>\n      <th>Latitude</th>\n      <th>Longitude</th>\n    </tr>\n  </thead>\n  <tbody>\n    <tr>\n      <th>0</th>\n      <td>M1B</td>\n      <td>43.806686</td>\n      <td>-79.194353</td>\n    </tr>\n    <tr>\n      <th>1</th>\n      <td>M1C</td>\n      <td>43.784535</td>\n      <td>-79.160497</td>\n    </tr>\n    <tr>\n      <th>2</th>\n      <td>M1E</td>\n      <td>43.763573</td>\n      <td>-79.188711</td>\n    </tr>\n    <tr>\n      <th>3</th>\n      <td>M1G</td>\n      <td>43.770992</td>\n      <td>-79.216917</td>\n    </tr>\n    <tr>\n      <th>4</th>\n      <td>M1H</td>\n      <td>43.773136</td>\n      <td>-79.239476</td>\n    </tr>\n  </tbody>\n</table>\n</div>"
     },
     "metadata": {},
     "execution_count": 22
    }
   ],
   "source": [
    "geo_df.head()"
   ]
  },
  {
   "cell_type": "code",
   "execution_count": 23,
   "metadata": {},
   "outputs": [],
   "source": [
    "geo_df.rename(columns={'Postal Code':'Postalcode'},inplace=True)\n",
    "geo_merged = pd.merge(geo_df, df_merge, on='Postalcode')"
   ]
  },
  {
   "cell_type": "code",
   "execution_count": 24,
   "metadata": {},
   "outputs": [
    {
     "output_type": "execute_result",
     "data": {
      "text/plain": "  Postalcode   Latitude  Longitude      Borough  \\\n0        M1B  43.806686 -79.194353  Scarborough   \n1        M1C  43.784535 -79.160497  Scarborough   \n2        M1E  43.763573 -79.188711  Scarborough   \n3        M1G  43.770992 -79.216917  Scarborough   \n4        M1H  43.773136 -79.239476  Scarborough   \n\n                             Neighborhood  \n0                          Malvern, Rouge  \n1  Rouge Hill, Port Union, Highland Creek  \n2       Guildwood, Morningside, West Hill  \n3                                  Woburn  \n4                               Cedarbrae  ",
      "text/html": "<div>\n<style scoped>\n    .dataframe tbody tr th:only-of-type {\n        vertical-align: middle;\n    }\n\n    .dataframe tbody tr th {\n        vertical-align: top;\n    }\n\n    .dataframe thead th {\n        text-align: right;\n    }\n</style>\n<table border=\"1\" class=\"dataframe\">\n  <thead>\n    <tr style=\"text-align: right;\">\n      <th></th>\n      <th>Postalcode</th>\n      <th>Latitude</th>\n      <th>Longitude</th>\n      <th>Borough</th>\n      <th>Neighborhood</th>\n    </tr>\n  </thead>\n  <tbody>\n    <tr>\n      <th>0</th>\n      <td>M1B</td>\n      <td>43.806686</td>\n      <td>-79.194353</td>\n      <td>Scarborough</td>\n      <td>Malvern, Rouge</td>\n    </tr>\n    <tr>\n      <th>1</th>\n      <td>M1C</td>\n      <td>43.784535</td>\n      <td>-79.160497</td>\n      <td>Scarborough</td>\n      <td>Rouge Hill, Port Union, Highland Creek</td>\n    </tr>\n    <tr>\n      <th>2</th>\n      <td>M1E</td>\n      <td>43.763573</td>\n      <td>-79.188711</td>\n      <td>Scarborough</td>\n      <td>Guildwood, Morningside, West Hill</td>\n    </tr>\n    <tr>\n      <th>3</th>\n      <td>M1G</td>\n      <td>43.770992</td>\n      <td>-79.216917</td>\n      <td>Scarborough</td>\n      <td>Woburn</td>\n    </tr>\n    <tr>\n      <th>4</th>\n      <td>M1H</td>\n      <td>43.773136</td>\n      <td>-79.239476</td>\n      <td>Scarborough</td>\n      <td>Cedarbrae</td>\n    </tr>\n  </tbody>\n</table>\n</div>"
     },
     "metadata": {},
     "execution_count": 24
    }
   ],
   "source": [
    "geo_merged.head()"
   ]
  },
  {
   "cell_type": "code",
   "execution_count": 26,
   "metadata": {},
   "outputs": [
    {
     "output_type": "execute_result",
     "data": {
      "text/plain": "  Postalcode      Borough                            Neighborhood   Latitude  \\\n0        M1B  Scarborough                          Malvern, Rouge  43.806686   \n1        M1C  Scarborough  Rouge Hill, Port Union, Highland Creek  43.784535   \n2        M1E  Scarborough       Guildwood, Morningside, West Hill  43.763573   \n3        M1G  Scarborough                                  Woburn  43.770992   \n4        M1H  Scarborough                               Cedarbrae  43.773136   \n\n   Longitude  \n0 -79.194353  \n1 -79.160497  \n2 -79.188711  \n3 -79.216917  \n4 -79.239476  ",
      "text/html": "<div>\n<style scoped>\n    .dataframe tbody tr th:only-of-type {\n        vertical-align: middle;\n    }\n\n    .dataframe tbody tr th {\n        vertical-align: top;\n    }\n\n    .dataframe thead th {\n        text-align: right;\n    }\n</style>\n<table border=\"1\" class=\"dataframe\">\n  <thead>\n    <tr style=\"text-align: right;\">\n      <th></th>\n      <th>Postalcode</th>\n      <th>Borough</th>\n      <th>Neighborhood</th>\n      <th>Latitude</th>\n      <th>Longitude</th>\n    </tr>\n  </thead>\n  <tbody>\n    <tr>\n      <th>0</th>\n      <td>M1B</td>\n      <td>Scarborough</td>\n      <td>Malvern, Rouge</td>\n      <td>43.806686</td>\n      <td>-79.194353</td>\n    </tr>\n    <tr>\n      <th>1</th>\n      <td>M1C</td>\n      <td>Scarborough</td>\n      <td>Rouge Hill, Port Union, Highland Creek</td>\n      <td>43.784535</td>\n      <td>-79.160497</td>\n    </tr>\n    <tr>\n      <th>2</th>\n      <td>M1E</td>\n      <td>Scarborough</td>\n      <td>Guildwood, Morningside, West Hill</td>\n      <td>43.763573</td>\n      <td>-79.188711</td>\n    </tr>\n    <tr>\n      <th>3</th>\n      <td>M1G</td>\n      <td>Scarborough</td>\n      <td>Woburn</td>\n      <td>43.770992</td>\n      <td>-79.216917</td>\n    </tr>\n    <tr>\n      <th>4</th>\n      <td>M1H</td>\n      <td>Scarborough</td>\n      <td>Cedarbrae</td>\n      <td>43.773136</td>\n      <td>-79.239476</td>\n    </tr>\n  </tbody>\n</table>\n</div>"
     },
     "metadata": {},
     "execution_count": 26
    }
   ],
   "source": [
    "geo_data=geo_merged[['Postalcode','Borough','Neighborhood','Latitude','Longitude']]\n",
    "geo_data.head()"
   ]
  },
  {
   "cell_type": "code",
   "execution_count": 27,
   "metadata": {},
   "outputs": [
    {
     "output_type": "execute_result",
     "data": {
      "text/plain": "   Postalcode          Borough                    Neighborhood   Latitude  \\\n37        M4E     East Toronto                     The Beaches  43.676357   \n41        M4K     East Toronto    The Danforth West, Riverdale  43.679557   \n42        M4L     East Toronto  India Bazaar, The Beaches West  43.668999   \n43        M4M     East Toronto                 Studio District  43.659526   \n44        M4N  Central Toronto                   Lawrence Park  43.728020   \n\n    Longitude  \n37 -79.293031  \n41 -79.352188  \n42 -79.315572  \n43 -79.340923  \n44 -79.388790  ",
      "text/html": "<div>\n<style scoped>\n    .dataframe tbody tr th:only-of-type {\n        vertical-align: middle;\n    }\n\n    .dataframe tbody tr th {\n        vertical-align: top;\n    }\n\n    .dataframe thead th {\n        text-align: right;\n    }\n</style>\n<table border=\"1\" class=\"dataframe\">\n  <thead>\n    <tr style=\"text-align: right;\">\n      <th></th>\n      <th>Postalcode</th>\n      <th>Borough</th>\n      <th>Neighborhood</th>\n      <th>Latitude</th>\n      <th>Longitude</th>\n    </tr>\n  </thead>\n  <tbody>\n    <tr>\n      <th>37</th>\n      <td>M4E</td>\n      <td>East Toronto</td>\n      <td>The Beaches</td>\n      <td>43.676357</td>\n      <td>-79.293031</td>\n    </tr>\n    <tr>\n      <th>41</th>\n      <td>M4K</td>\n      <td>East Toronto</td>\n      <td>The Danforth West, Riverdale</td>\n      <td>43.679557</td>\n      <td>-79.352188</td>\n    </tr>\n    <tr>\n      <th>42</th>\n      <td>M4L</td>\n      <td>East Toronto</td>\n      <td>India Bazaar, The Beaches West</td>\n      <td>43.668999</td>\n      <td>-79.315572</td>\n    </tr>\n    <tr>\n      <th>43</th>\n      <td>M4M</td>\n      <td>East Toronto</td>\n      <td>Studio District</td>\n      <td>43.659526</td>\n      <td>-79.340923</td>\n    </tr>\n    <tr>\n      <th>44</th>\n      <td>M4N</td>\n      <td>Central Toronto</td>\n      <td>Lawrence Park</td>\n      <td>43.728020</td>\n      <td>-79.388790</td>\n    </tr>\n  </tbody>\n</table>\n</div>"
     },
     "metadata": {},
     "execution_count": 27
    }
   ],
   "source": [
    "toronto_data=geo_data[geo_data['Borough'].str.contains(\"Toronto\")]\n",
    "toronto_data.head()"
   ]
  },
  {
   "cell_type": "code",
   "execution_count": 28,
   "metadata": {},
   "outputs": [],
   "source": [
    "CLIENT_ID = 'DFDTYPN2UKBT5NUGOIIWQKAP0L1PXXT4HM0YFMYUAXVAELHB' # your Foursquare ID\n",
    "CLIENT_SECRET = 'HLSKRKEWEBAIXX0DNFI3GQVYS1UNVQDMS1SPAI0WM3BL5Z2B' # your Foursquare Secret\n",
    "VERSION = '20180604'"
   ]
  },
  {
   "cell_type": "code",
   "execution_count": 38,
   "metadata": {},
   "outputs": [],
   "source": [
    "def getNearbyVenues(names, latitudes, longitudes):\n",
    "    radius=500\n",
    "    LIMIT=100\n",
    "    venues_list=[]\n",
    "    for name, lat, lng in zip(names, latitudes, longitudes):\n",
    "        print(name)\n",
    "            \n",
    "        # create the API request URL\n",
    "        url = 'https://api.foursquare.com/v2/venues/explore?&client_id={}&client_secret={}&v={}&ll={},{}&radius={}&limit={}'.format(\n",
    "            CLIENT_ID, \n",
    "            CLIENT_SECRET, \n",
    "            VERSION, \n",
    "            lat, \n",
    "            lng, \n",
    "            radius, \n",
    "            LIMIT)\n",
    "            \n",
    "        # make the GET request\n",
    "        results = requests.get(url).json()[\"response\"]['groups'][0]['items']\n",
    "        \n",
    "        # return only relevant information for each nearby venue\n",
    "        venues_list.append([(\n",
    "            name, \n",
    "            lat, \n",
    "            lng, \n",
    "            v['venue']['name'], \n",
    "            v['venue']['location']['lat'], \n",
    "            v['venue']['location']['lng'],  \n",
    "            v['venue']['categories'][0]['name']) for v in results])\n",
    "\n",
    "    nearby_venues = pd.DataFrame([item for venue_list in venues_list for item in venue_list])\n",
    "    nearby_venues.columns = ['Neighborhood', \n",
    "                  'Neighborhood Latitude', \n",
    "                  'Neighborhood Longitude', \n",
    "                  'Venue', \n",
    "                  'Venue Latitude', \n",
    "                  'Venue Longitude', \n",
    "                  'Venue Category']\n",
    "    \n",
    "    return(nearby_venues)"
   ]
  },
  {
   "cell_type": "code",
   "execution_count": 39,
   "metadata": {
    "tags": []
   },
   "outputs": [
    {
     "output_type": "stream",
     "name": "stdout",
     "text": "The Beaches\nThe Danforth West, Riverdale\nIndia Bazaar, The Beaches West\nStudio District\nLawrence Park\nDavisville North\nNorth Toronto West,  Lawrence Park\nDavisville\nMoore Park, Summerhill East\nSummerhill West, Rathnelly, South Hill, Forest Hill SE, Deer Park\nRosedale\nSt. James Town, Cabbagetown\nChurch and Wellesley\nRegent Park, Harbourfront\nGarden District, Ryerson\nSt. James Town\nBerczy Park\nCentral Bay Street\nRichmond, Adelaide, King\nHarbourfront East, Union Station, Toronto Islands\nToronto Dominion Centre, Design Exchange\nCommerce Court, Victoria Hotel\nRoselawn\nForest Hill North & West, Forest Hill Road Park\nThe Annex, North Midtown, Yorkville\nUniversity of Toronto, Harbord\nKensington Market, Chinatown, Grange Park\nCN Tower, King and Spadina, Railway Lands, Harbourfront West, Bathurst Quay, South Niagara, Island airport\nStn A PO Boxes\nFirst Canadian Place, Underground city\nChristie\nDufferin, Dovercourt Village\nLittle Portugal, Trinity\nBrockton, Parkdale Village, Exhibition Place\nHigh Park, The Junction South\nParkdale, Roncesvalles\nRunnymede, Swansea\nQueen's Park, Ontario Provincial Government\nBusiness reply mail Processing Centre, South Central Letter Processing Plant Toronto\n"
    }
   ],
   "source": [
    "toronto_venues = getNearbyVenues(names=toronto_data['Neighborhood'],\n",
    "                                   latitudes=toronto_data['Latitude'],\n",
    "                                   longitudes=toronto_data['Longitude']\n",
    "                                  )"
   ]
  },
  {
   "cell_type": "code",
   "execution_count": 40,
   "metadata": {},
   "outputs": [
    {
     "output_type": "execute_result",
     "data": {
      "text/plain": "  Neighborhood  Neighborhood Latitude  Neighborhood Longitude  \\\n0  The Beaches              43.676357              -79.293031   \n1  The Beaches              43.676357              -79.293031   \n2  The Beaches              43.676357              -79.293031   \n3  The Beaches              43.676357              -79.293031   \n4  The Beaches              43.676357              -79.293031   \n\n                                Venue  Venue Latitude  Venue Longitude  \\\n0                   Glen Manor Ravine       43.676821       -79.293942   \n1  The Big Carrot Natural Food Market       43.678879       -79.297734   \n2                 Grover Pub and Grub       43.679181       -79.297215   \n3                       Upper Beaches       43.680563       -79.292869   \n4                 Seaspray Restaurant       43.678888       -79.298167   \n\n      Venue Category  \n0              Trail  \n1  Health Food Store  \n2                Pub  \n3       Neighborhood  \n4   Asian Restaurant  ",
      "text/html": "<div>\n<style scoped>\n    .dataframe tbody tr th:only-of-type {\n        vertical-align: middle;\n    }\n\n    .dataframe tbody tr th {\n        vertical-align: top;\n    }\n\n    .dataframe thead th {\n        text-align: right;\n    }\n</style>\n<table border=\"1\" class=\"dataframe\">\n  <thead>\n    <tr style=\"text-align: right;\">\n      <th></th>\n      <th>Neighborhood</th>\n      <th>Neighborhood Latitude</th>\n      <th>Neighborhood Longitude</th>\n      <th>Venue</th>\n      <th>Venue Latitude</th>\n      <th>Venue Longitude</th>\n      <th>Venue Category</th>\n    </tr>\n  </thead>\n  <tbody>\n    <tr>\n      <th>0</th>\n      <td>The Beaches</td>\n      <td>43.676357</td>\n      <td>-79.293031</td>\n      <td>Glen Manor Ravine</td>\n      <td>43.676821</td>\n      <td>-79.293942</td>\n      <td>Trail</td>\n    </tr>\n    <tr>\n      <th>1</th>\n      <td>The Beaches</td>\n      <td>43.676357</td>\n      <td>-79.293031</td>\n      <td>The Big Carrot Natural Food Market</td>\n      <td>43.678879</td>\n      <td>-79.297734</td>\n      <td>Health Food Store</td>\n    </tr>\n    <tr>\n      <th>2</th>\n      <td>The Beaches</td>\n      <td>43.676357</td>\n      <td>-79.293031</td>\n      <td>Grover Pub and Grub</td>\n      <td>43.679181</td>\n      <td>-79.297215</td>\n      <td>Pub</td>\n    </tr>\n    <tr>\n      <th>3</th>\n      <td>The Beaches</td>\n      <td>43.676357</td>\n      <td>-79.293031</td>\n      <td>Upper Beaches</td>\n      <td>43.680563</td>\n      <td>-79.292869</td>\n      <td>Neighborhood</td>\n    </tr>\n    <tr>\n      <th>4</th>\n      <td>The Beaches</td>\n      <td>43.676357</td>\n      <td>-79.293031</td>\n      <td>Seaspray Restaurant</td>\n      <td>43.678888</td>\n      <td>-79.298167</td>\n      <td>Asian Restaurant</td>\n    </tr>\n  </tbody>\n</table>\n</div>"
     },
     "metadata": {},
     "execution_count": 40
    }
   ],
   "source": [
    "toronto_venues.head()"
   ]
  },
  {
   "cell_type": "code",
   "execution_count": 41,
   "metadata": {},
   "outputs": [
    {
     "output_type": "execute_result",
     "data": {
      "text/plain": "                                                    Neighborhood Latitude  \\\nNeighborhood                                                                \nBerczy Park                                                            58   \nBrockton, Parkdale Village, Exhibition Place                           22   \nBusiness reply mail Processing Centre, South Ce...                     17   \nCN Tower, King and Spadina, Railway Lands, Harb...                     17   \nCentral Bay Street                                                     65   \nChristie                                                               16   \nChurch and Wellesley                                                   76   \nCommerce Court, Victoria Hotel                                        100   \nDavisville                                                             34   \nDavisville North                                                        7   \nDufferin, Dovercourt Village                                           14   \nFirst Canadian Place, Underground city                                100   \nForest Hill North & West, Forest Hill Road Park                         4   \nGarden District, Ryerson                                              100   \nHarbourfront East, Union Station, Toronto Islands                     100   \nHigh Park, The Junction South                                          25   \nIndia Bazaar, The Beaches West                                         19   \nKensington Market, Chinatown, Grange Park                              65   \nLawrence Park                                                           3   \nLittle Portugal, Trinity                                               48   \nMoore Park, Summerhill East                                             2   \nNorth Toronto West,  Lawrence Park                                     18   \nParkdale, Roncesvalles                                                 14   \nQueen's Park, Ontario Provincial Government                            31   \nRegent Park, Harbourfront                                              44   \nRichmond, Adelaide, King                                              100   \nRosedale                                                                4   \nRoselawn                                                                2   \nRunnymede, Swansea                                                     36   \nSt. James Town                                                         84   \nSt. James Town, Cabbagetown                                            48   \nStn A PO Boxes                                                         98   \nStudio District                                                        41   \nSummerhill West, Rathnelly, South Hill, Forest ...                     16   \nThe Annex, North Midtown, Yorkville                                    21   \nThe Beaches                                                             5   \nThe Danforth West, Riverdale                                           42   \nToronto Dominion Centre, Design Exchange                              100   \nUniversity of Toronto, Harbord                                         34   \n\n                                                    Neighborhood Longitude  \\\nNeighborhood                                                                 \nBerczy Park                                                             58   \nBrockton, Parkdale Village, Exhibition Place                            22   \nBusiness reply mail Processing Centre, South Ce...                      17   \nCN Tower, King and Spadina, Railway Lands, Harb...                      17   \nCentral Bay Street                                                      65   \nChristie                                                                16   \nChurch and Wellesley                                                    76   \nCommerce Court, Victoria Hotel                                         100   \nDavisville                                                              34   \nDavisville North                                                         7   \nDufferin, Dovercourt Village                                            14   \nFirst Canadian Place, Underground city                                 100   \nForest Hill North & West, Forest Hill Road Park                          4   \nGarden District, Ryerson                                               100   \nHarbourfront East, Union Station, Toronto Islands                      100   \nHigh Park, The Junction South                                           25   \nIndia Bazaar, The Beaches West                                          19   \nKensington Market, Chinatown, Grange Park                               65   \nLawrence Park                                                            3   \nLittle Portugal, Trinity                                                48   \nMoore Park, Summerhill East                                              2   \nNorth Toronto West,  Lawrence Park                                      18   \nParkdale, Roncesvalles                                                  14   \nQueen's Park, Ontario Provincial Government                             31   \nRegent Park, Harbourfront                                               44   \nRichmond, Adelaide, King                                               100   \nRosedale                                                                 4   \nRoselawn                                                                 2   \nRunnymede, Swansea                                                      36   \nSt. James Town                                                          84   \nSt. James Town, Cabbagetown                                             48   \nStn A PO Boxes                                                          98   \nStudio District                                                         41   \nSummerhill West, Rathnelly, South Hill, Forest ...                      16   \nThe Annex, North Midtown, Yorkville                                     21   \nThe Beaches                                                              5   \nThe Danforth West, Riverdale                                            42   \nToronto Dominion Centre, Design Exchange                               100   \nUniversity of Toronto, Harbord                                          34   \n\n                                                    Venue  Venue Latitude  \\\nNeighborhood                                                                \nBerczy Park                                            58              58   \nBrockton, Parkdale Village, Exhibition Place           22              22   \nBusiness reply mail Processing Centre, South Ce...     17              17   \nCN Tower, King and Spadina, Railway Lands, Harb...     17              17   \nCentral Bay Street                                     65              65   \nChristie                                               16              16   \nChurch and Wellesley                                   76              76   \nCommerce Court, Victoria Hotel                        100             100   \nDavisville                                             34              34   \nDavisville North                                        7               7   \nDufferin, Dovercourt Village                           14              14   \nFirst Canadian Place, Underground city                100             100   \nForest Hill North & West, Forest Hill Road Park         4               4   \nGarden District, Ryerson                              100             100   \nHarbourfront East, Union Station, Toronto Islands     100             100   \nHigh Park, The Junction South                          25              25   \nIndia Bazaar, The Beaches West                         19              19   \nKensington Market, Chinatown, Grange Park              65              65   \nLawrence Park                                           3               3   \nLittle Portugal, Trinity                               48              48   \nMoore Park, Summerhill East                             2               2   \nNorth Toronto West,  Lawrence Park                     18              18   \nParkdale, Roncesvalles                                 14              14   \nQueen's Park, Ontario Provincial Government            31              31   \nRegent Park, Harbourfront                              44              44   \nRichmond, Adelaide, King                              100             100   \nRosedale                                                4               4   \nRoselawn                                                2               2   \nRunnymede, Swansea                                     36              36   \nSt. James Town                                         84              84   \nSt. James Town, Cabbagetown                            48              48   \nStn A PO Boxes                                         98              98   \nStudio District                                        41              41   \nSummerhill West, Rathnelly, South Hill, Forest ...     16              16   \nThe Annex, North Midtown, Yorkville                    21              21   \nThe Beaches                                             5               5   \nThe Danforth West, Riverdale                           42              42   \nToronto Dominion Centre, Design Exchange              100             100   \nUniversity of Toronto, Harbord                         34              34   \n\n                                                    Venue Longitude  \\\nNeighborhood                                                          \nBerczy Park                                                      58   \nBrockton, Parkdale Village, Exhibition Place                     22   \nBusiness reply mail Processing Centre, South Ce...               17   \nCN Tower, King and Spadina, Railway Lands, Harb...               17   \nCentral Bay Street                                               65   \nChristie                                                         16   \nChurch and Wellesley                                             76   \nCommerce Court, Victoria Hotel                                  100   \nDavisville                                                       34   \nDavisville North                                                  7   \nDufferin, Dovercourt Village                                     14   \nFirst Canadian Place, Underground city                          100   \nForest Hill North & West, Forest Hill Road Park                   4   \nGarden District, Ryerson                                        100   \nHarbourfront East, Union Station, Toronto Islands               100   \nHigh Park, The Junction South                                    25   \nIndia Bazaar, The Beaches West                                   19   \nKensington Market, Chinatown, Grange Park                        65   \nLawrence Park                                                     3   \nLittle Portugal, Trinity                                         48   \nMoore Park, Summerhill East                                       2   \nNorth Toronto West,  Lawrence Park                               18   \nParkdale, Roncesvalles                                           14   \nQueen's Park, Ontario Provincial Government                      31   \nRegent Park, Harbourfront                                        44   \nRichmond, Adelaide, King                                        100   \nRosedale                                                          4   \nRoselawn                                                          2   \nRunnymede, Swansea                                               36   \nSt. James Town                                                   84   \nSt. James Town, Cabbagetown                                      48   \nStn A PO Boxes                                                   98   \nStudio District                                                  41   \nSummerhill West, Rathnelly, South Hill, Forest ...               16   \nThe Annex, North Midtown, Yorkville                              21   \nThe Beaches                                                       5   \nThe Danforth West, Riverdale                                     42   \nToronto Dominion Centre, Design Exchange                        100   \nUniversity of Toronto, Harbord                                   34   \n\n                                                    Venue Category  \nNeighborhood                                                        \nBerczy Park                                                     58  \nBrockton, Parkdale Village, Exhibition Place                    22  \nBusiness reply mail Processing Centre, South Ce...              17  \nCN Tower, King and Spadina, Railway Lands, Harb...              17  \nCentral Bay Street                                              65  \nChristie                                                        16  \nChurch and Wellesley                                            76  \nCommerce Court, Victoria Hotel                                 100  \nDavisville                                                      34  \nDavisville North                                                 7  \nDufferin, Dovercourt Village                                    14  \nFirst Canadian Place, Underground city                         100  \nForest Hill North & West, Forest Hill Road Park                  4  \nGarden District, Ryerson                                       100  \nHarbourfront East, Union Station, Toronto Islands              100  \nHigh Park, The Junction South                                   25  \nIndia Bazaar, The Beaches West                                  19  \nKensington Market, Chinatown, Grange Park                       65  \nLawrence Park                                                    3  \nLittle Portugal, Trinity                                        48  \nMoore Park, Summerhill East                                      2  \nNorth Toronto West,  Lawrence Park                              18  \nParkdale, Roncesvalles                                          14  \nQueen's Park, Ontario Provincial Government                     31  \nRegent Park, Harbourfront                                       44  \nRichmond, Adelaide, King                                       100  \nRosedale                                                         4  \nRoselawn                                                         2  \nRunnymede, Swansea                                              36  \nSt. James Town                                                  84  \nSt. James Town, Cabbagetown                                     48  \nStn A PO Boxes                                                  98  \nStudio District                                                 41  \nSummerhill West, Rathnelly, South Hill, Forest ...              16  \nThe Annex, North Midtown, Yorkville                             21  \nThe Beaches                                                      5  \nThe Danforth West, Riverdale                                    42  \nToronto Dominion Centre, Design Exchange                       100  \nUniversity of Toronto, Harbord                                  34  ",
      "text/html": "<div>\n<style scoped>\n    .dataframe tbody tr th:only-of-type {\n        vertical-align: middle;\n    }\n\n    .dataframe tbody tr th {\n        vertical-align: top;\n    }\n\n    .dataframe thead th {\n        text-align: right;\n    }\n</style>\n<table border=\"1\" class=\"dataframe\">\n  <thead>\n    <tr style=\"text-align: right;\">\n      <th></th>\n      <th>Neighborhood Latitude</th>\n      <th>Neighborhood Longitude</th>\n      <th>Venue</th>\n      <th>Venue Latitude</th>\n      <th>Venue Longitude</th>\n      <th>Venue Category</th>\n    </tr>\n    <tr>\n      <th>Neighborhood</th>\n      <th></th>\n      <th></th>\n      <th></th>\n      <th></th>\n      <th></th>\n      <th></th>\n    </tr>\n  </thead>\n  <tbody>\n    <tr>\n      <th>Berczy Park</th>\n      <td>58</td>\n      <td>58</td>\n      <td>58</td>\n      <td>58</td>\n      <td>58</td>\n      <td>58</td>\n    </tr>\n    <tr>\n      <th>Brockton, Parkdale Village, Exhibition Place</th>\n      <td>22</td>\n      <td>22</td>\n      <td>22</td>\n      <td>22</td>\n      <td>22</td>\n      <td>22</td>\n    </tr>\n    <tr>\n      <th>Business reply mail Processing Centre, South Central Letter Processing Plant Toronto</th>\n      <td>17</td>\n      <td>17</td>\n      <td>17</td>\n      <td>17</td>\n      <td>17</td>\n      <td>17</td>\n    </tr>\n    <tr>\n      <th>CN Tower, King and Spadina, Railway Lands, Harbourfront West, Bathurst Quay, South Niagara, Island airport</th>\n      <td>17</td>\n      <td>17</td>\n      <td>17</td>\n      <td>17</td>\n      <td>17</td>\n      <td>17</td>\n    </tr>\n    <tr>\n      <th>Central Bay Street</th>\n      <td>65</td>\n      <td>65</td>\n      <td>65</td>\n      <td>65</td>\n      <td>65</td>\n      <td>65</td>\n    </tr>\n    <tr>\n      <th>Christie</th>\n      <td>16</td>\n      <td>16</td>\n      <td>16</td>\n      <td>16</td>\n      <td>16</td>\n      <td>16</td>\n    </tr>\n    <tr>\n      <th>Church and Wellesley</th>\n      <td>76</td>\n      <td>76</td>\n      <td>76</td>\n      <td>76</td>\n      <td>76</td>\n      <td>76</td>\n    </tr>\n    <tr>\n      <th>Commerce Court, Victoria Hotel</th>\n      <td>100</td>\n      <td>100</td>\n      <td>100</td>\n      <td>100</td>\n      <td>100</td>\n      <td>100</td>\n    </tr>\n    <tr>\n      <th>Davisville</th>\n      <td>34</td>\n      <td>34</td>\n      <td>34</td>\n      <td>34</td>\n      <td>34</td>\n      <td>34</td>\n    </tr>\n    <tr>\n      <th>Davisville North</th>\n      <td>7</td>\n      <td>7</td>\n      <td>7</td>\n      <td>7</td>\n      <td>7</td>\n      <td>7</td>\n    </tr>\n    <tr>\n      <th>Dufferin, Dovercourt Village</th>\n      <td>14</td>\n      <td>14</td>\n      <td>14</td>\n      <td>14</td>\n      <td>14</td>\n      <td>14</td>\n    </tr>\n    <tr>\n      <th>First Canadian Place, Underground city</th>\n      <td>100</td>\n      <td>100</td>\n      <td>100</td>\n      <td>100</td>\n      <td>100</td>\n      <td>100</td>\n    </tr>\n    <tr>\n      <th>Forest Hill North &amp; West, Forest Hill Road Park</th>\n      <td>4</td>\n      <td>4</td>\n      <td>4</td>\n      <td>4</td>\n      <td>4</td>\n      <td>4</td>\n    </tr>\n    <tr>\n      <th>Garden District, Ryerson</th>\n      <td>100</td>\n      <td>100</td>\n      <td>100</td>\n      <td>100</td>\n      <td>100</td>\n      <td>100</td>\n    </tr>\n    <tr>\n      <th>Harbourfront East, Union Station, Toronto Islands</th>\n      <td>100</td>\n      <td>100</td>\n      <td>100</td>\n      <td>100</td>\n      <td>100</td>\n      <td>100</td>\n    </tr>\n    <tr>\n      <th>High Park, The Junction South</th>\n      <td>25</td>\n      <td>25</td>\n      <td>25</td>\n      <td>25</td>\n      <td>25</td>\n      <td>25</td>\n    </tr>\n    <tr>\n      <th>India Bazaar, The Beaches West</th>\n      <td>19</td>\n      <td>19</td>\n      <td>19</td>\n      <td>19</td>\n      <td>19</td>\n      <td>19</td>\n    </tr>\n    <tr>\n      <th>Kensington Market, Chinatown, Grange Park</th>\n      <td>65</td>\n      <td>65</td>\n      <td>65</td>\n      <td>65</td>\n      <td>65</td>\n      <td>65</td>\n    </tr>\n    <tr>\n      <th>Lawrence Park</th>\n      <td>3</td>\n      <td>3</td>\n      <td>3</td>\n      <td>3</td>\n      <td>3</td>\n      <td>3</td>\n    </tr>\n    <tr>\n      <th>Little Portugal, Trinity</th>\n      <td>48</td>\n      <td>48</td>\n      <td>48</td>\n      <td>48</td>\n      <td>48</td>\n      <td>48</td>\n    </tr>\n    <tr>\n      <th>Moore Park, Summerhill East</th>\n      <td>2</td>\n      <td>2</td>\n      <td>2</td>\n      <td>2</td>\n      <td>2</td>\n      <td>2</td>\n    </tr>\n    <tr>\n      <th>North Toronto West,  Lawrence Park</th>\n      <td>18</td>\n      <td>18</td>\n      <td>18</td>\n      <td>18</td>\n      <td>18</td>\n      <td>18</td>\n    </tr>\n    <tr>\n      <th>Parkdale, Roncesvalles</th>\n      <td>14</td>\n      <td>14</td>\n      <td>14</td>\n      <td>14</td>\n      <td>14</td>\n      <td>14</td>\n    </tr>\n    <tr>\n      <th>Queen's Park, Ontario Provincial Government</th>\n      <td>31</td>\n      <td>31</td>\n      <td>31</td>\n      <td>31</td>\n      <td>31</td>\n      <td>31</td>\n    </tr>\n    <tr>\n      <th>Regent Park, Harbourfront</th>\n      <td>44</td>\n      <td>44</td>\n      <td>44</td>\n      <td>44</td>\n      <td>44</td>\n      <td>44</td>\n    </tr>\n    <tr>\n      <th>Richmond, Adelaide, King</th>\n      <td>100</td>\n      <td>100</td>\n      <td>100</td>\n      <td>100</td>\n      <td>100</td>\n      <td>100</td>\n    </tr>\n    <tr>\n      <th>Rosedale</th>\n      <td>4</td>\n      <td>4</td>\n      <td>4</td>\n      <td>4</td>\n      <td>4</td>\n      <td>4</td>\n    </tr>\n    <tr>\n      <th>Roselawn</th>\n      <td>2</td>\n      <td>2</td>\n      <td>2</td>\n      <td>2</td>\n      <td>2</td>\n      <td>2</td>\n    </tr>\n    <tr>\n      <th>Runnymede, Swansea</th>\n      <td>36</td>\n      <td>36</td>\n      <td>36</td>\n      <td>36</td>\n      <td>36</td>\n      <td>36</td>\n    </tr>\n    <tr>\n      <th>St. James Town</th>\n      <td>84</td>\n      <td>84</td>\n      <td>84</td>\n      <td>84</td>\n      <td>84</td>\n      <td>84</td>\n    </tr>\n    <tr>\n      <th>St. James Town, Cabbagetown</th>\n      <td>48</td>\n      <td>48</td>\n      <td>48</td>\n      <td>48</td>\n      <td>48</td>\n      <td>48</td>\n    </tr>\n    <tr>\n      <th>Stn A PO Boxes</th>\n      <td>98</td>\n      <td>98</td>\n      <td>98</td>\n      <td>98</td>\n      <td>98</td>\n      <td>98</td>\n    </tr>\n    <tr>\n      <th>Studio District</th>\n      <td>41</td>\n      <td>41</td>\n      <td>41</td>\n      <td>41</td>\n      <td>41</td>\n      <td>41</td>\n    </tr>\n    <tr>\n      <th>Summerhill West, Rathnelly, South Hill, Forest Hill SE, Deer Park</th>\n      <td>16</td>\n      <td>16</td>\n      <td>16</td>\n      <td>16</td>\n      <td>16</td>\n      <td>16</td>\n    </tr>\n    <tr>\n      <th>The Annex, North Midtown, Yorkville</th>\n      <td>21</td>\n      <td>21</td>\n      <td>21</td>\n      <td>21</td>\n      <td>21</td>\n      <td>21</td>\n    </tr>\n    <tr>\n      <th>The Beaches</th>\n      <td>5</td>\n      <td>5</td>\n      <td>5</td>\n      <td>5</td>\n      <td>5</td>\n      <td>5</td>\n    </tr>\n    <tr>\n      <th>The Danforth West, Riverdale</th>\n      <td>42</td>\n      <td>42</td>\n      <td>42</td>\n      <td>42</td>\n      <td>42</td>\n      <td>42</td>\n    </tr>\n    <tr>\n      <th>Toronto Dominion Centre, Design Exchange</th>\n      <td>100</td>\n      <td>100</td>\n      <td>100</td>\n      <td>100</td>\n      <td>100</td>\n      <td>100</td>\n    </tr>\n    <tr>\n      <th>University of Toronto, Harbord</th>\n      <td>34</td>\n      <td>34</td>\n      <td>34</td>\n      <td>34</td>\n      <td>34</td>\n      <td>34</td>\n    </tr>\n  </tbody>\n</table>\n</div>"
     },
     "metadata": {},
     "execution_count": 41
    }
   ],
   "source": [
    "toronto_venues.groupby('Neighborhood').count()\n"
   ]
  },
  {
   "cell_type": "code",
   "execution_count": 42,
   "metadata": {},
   "outputs": [
    {
     "output_type": "execute_result",
     "data": {
      "text/plain": "(1630, 229)"
     },
     "metadata": {},
     "execution_count": 42
    }
   ],
   "source": [
    "toronto_onehot = pd.get_dummies(toronto_venues[['Venue Category']], prefix=\"\", prefix_sep=\"\")\n",
    "toronto_onehot.drop(['Neighborhood'],axis=1,inplace=True) \n",
    "toronto_onehot.insert(loc=0, column='Neighborhood', value=toronto_venues['Neighborhood'] )\n",
    "toronto_onehot.shape"
   ]
  },
  {
   "cell_type": "code",
   "execution_count": 43,
   "metadata": {},
   "outputs": [
    {
     "output_type": "execute_result",
     "data": {
      "text/plain": "Spot   Brewery  Bubble Tea Shop  Building  \\\n0                   0.0        0.017241  0.000000         0.000000       0.0   \n1                   0.0        0.090909  0.000000         0.000000       0.0   \n2                   0.0        0.000000  0.058824         0.000000       0.0   \n3                   0.0        0.000000  0.000000         0.000000       0.0   \n4                   0.0        0.000000  0.000000         0.030769       0.0   \n\n   Burger Joint  Burrito Place  Bus Line  Bus Stop   Butcher      Café  \\\n0      0.000000       0.000000       0.0       0.0  0.000000  0.034483   \n1      0.000000       0.045455       0.0       0.0  0.000000  0.136364   \n2      0.000000       0.058824       0.0       0.0  0.058824  0.000000   \n3      0.000000       0.000000       0.0       0.0  0.000000  0.000000   \n4      0.030769       0.000000       0.0       0.0  0.000000  0.046154   \n\n   Cajun / Creole Restaurant  Camera Store  Candy Store  Caribbean Restaurant  \\\n0                        0.0           0.0          0.0                   0.0   \n1                        0.0           0.0          0.0                   0.0   \n2                        0.0           0.0          0.0                   0.0   \n3                        0.0           0.0          0.0                   0.0   \n4                        0.0           0.0          0.0                   0.0   \n\n   Cheese Shop  Chinese Restaurant  Chocolate Shop  Church  Climbing Gym  \\\n0     0.034483                 0.0             0.0     0.0      0.000000   \n1     0.000000                 0.0             0.0     0.0      0.045455   \n2     0.000000                 0.0             0.0     0.0      0.000000   \n3     0.000000                 0.0             0.0     0.0      0.000000   \n4     0.000000                 0.0             0.0     0.0      0.000000   \n\n   Clothing Store  Cocktail Bar  Coffee Shop  College Arts Building  \\\n0             0.0      0.034483     0.086207                    0.0   \n1             0.0      0.000000     0.090909                    0.0   \n2             0.0      0.000000     0.000000                    0.0   \n3             0.0      0.000000     0.058824                    0.0   \n4             0.0      0.000000     0.184615                    0.0   \n\n   College Auditorium  College Gym  College Rec Center  Colombian Restaurant  \\\n0                 0.0          0.0                 0.0                   0.0   \n1                 0.0          0.0                 0.0                   0.0   \n2                 0.0          0.0                 0.0                   0.0   \n3                 0.0          0.0                 0.0                   0.0   \n4                 0.0          0.0                 0.0                   0.0   \n\n   Comfort Food Restaurant  Comic Shop  Concert Hall  Convenience Store  \\\n0                 0.017241    0.000000      0.017241           0.000000   \n1                 0.000000    0.000000      0.000000           0.045455   \n2                 0.000000    0.058824      0.000000           0.000000   \n3                 0.000000    0.000000      0.000000           0.000000   \n4                 0.000000    0.015385      0.000000           0.000000   \n\n   Convention Center  Cosmetics Shop  Coworking Space  Creperie  \\\n0                0.0             0.0              0.0  0.017241   \n1                0.0             0.0              0.0  0.000000   \n2                0.0             0.0              0.0  0.000000   \n3                0.0             0.0              0.0  0.000000   \n4                0.0             0.0              0.0  0.000000   \n\n   Cuban Restaurant  Cupcake Shop  Dance Studio  Deli / Bodega  \\\n0               0.0           0.0           0.0            0.0   \n1               0.0           0.0           0.0            0.0   \n2               0.0           0.0           0.0            0.0   \n3               0.0           0.0           0.0            0.0   \n4               0.0           0.0           0.0            0.0   \n\n   Department Store  Dessert Shop     Diner  Discount Store  \\\n0          0.017241      0.000000  0.017241        0.000000   \n1          0.000000      0.000000  0.000000        0.000000   \n2          0.000000      0.000000  0.000000        0.000000   \n3          0.000000      0.000000  0.000000        0.000000   \n4          0.030769      0.030769  0.015385        0.015385   \n\n   Distribution Center  Dog Run  Doner Restaurant  Donut Shop  \\\n0                  0.0      0.0               0.0    0.000000   \n1                  0.0      0.0               0.0    0.000000   \n2                  0.0      0.0               0.0    0.000000   \n3                  0.0      0.0               0.0    0.000000   \n4                  0.0      0.0               0.0    0.015385   \n\n   Dumpling Restaurant  Eastern European Restaurant  Electronics Store  \\\n0                  0.0                     0.017241                0.0   \n1                  0.0                     0.000000                0.0   \n2                  0.0                     0.000000                0.0   \n3                  0.0                     0.000000                0.0   \n4                  0.0                     0.000000                0.0   \n\n   Ethiopian Restaurant  Event Space  Falafel Restaurant  Farmers Market  \\\n0                   0.0          0.0            0.000000        0.034483   \n1                   0.0          0.0            0.000000        0.000000   \n2                   0.0          0.0            0.000000        0.058824   \n3                   0.0          0.0            0.000000        0.000000   \n4                   0.0          0.0            0.015385        0.000000   \n\n   Fast Food Restaurant  Filipino Restaurant  Fish & Chips Shop  Fish Market  \\\n0              0.000000                  0.0                0.0     0.017241   \n1              0.000000                  0.0                0.0     0.000000   \n2              0.058824                  0.0                0.0     0.000000   \n3              0.000000                  0.0                0.0     0.000000   \n4              0.000000                  0.0                0.0     0.000000   \n\n   Flea Market  Flower Shop  Food & Drink Shop  Food Court  Food Truck  \\\n0          0.0          0.0                0.0         0.0         0.0   \n1          0.0          0.0                0.0         0.0         0.0   \n2          0.0          0.0                0.0         0.0         0.0   \n3          0.0          0.0                0.0         0.0         0.0   \n4          0.0          0.0                0.0         0.0         0.0   \n\n   Fountain  French Restaurant  Fried Chicken Joint  Frozen Yogurt Shop  \\\n0  0.017241           0.017241                  0.0                 0.0   \n1  0.000000           0.000000                  0.0                 0.0   \n2  0.000000           0.000000                  0.0                 0.0   \n3  0.000000           0.000000                  0.0                 0.0   \n4  0.000000           0.015385                  0.0                 0.0   \n\n   Fruit & Vegetable Store  Furniture / Home Store  Gaming Cafe    Garden  \\\n0                      0.0                0.000000          0.0  0.000000   \n1                      0.0                0.045455          0.0  0.000000   \n2                      0.0                0.000000          0.0  0.058824   \n3                      0.0                0.000000          0.0  0.000000   \n4                      0.0                0.015385          0.0  0.000000   \n\n   Garden Center  Gas Station  Gastropub  Gay Bar  General Entertainment  \\\n0       0.000000          0.0   0.000000      0.0                    0.0   \n1       0.000000          0.0   0.000000      0.0                    0.0   \n2       0.058824          0.0   0.000000      0.0                    0.0   \n3       0.000000          0.0   0.000000      0.0                    0.0   \n4       0.000000          0.0   0.015385      0.0                    0.0   \n\n   General Travel  German Restaurant  Gift Shop  Gluten-free Restaurant  \\\n0             0.0                0.0        0.0                     0.0   \n1             0.0                0.0        0.0                     0.0   \n2             0.0                0.0        0.0                     0.0   \n3             0.0                0.0        0.0                     0.0   \n4             0.0                0.0        0.0                     0.0   \n\n   Gourmet Shop  Greek Restaurant  Grocery Store       Gym  \\\n0      0.017241          0.017241       0.017241  0.017241   \n1      0.000000          0.000000       0.045455  0.045455   \n2      0.000000          0.000000       0.000000  0.000000   \n3      0.000000          0.000000       0.000000  0.000000   \n4      0.000000          0.000000       0.000000  0.000000   \n\n   Gym / Fitness Center  Harbor / Marina  Health & Beauty Service  \\\n0              0.000000         0.000000                      0.0   \n1              0.000000         0.000000                      0.0   \n2              0.058824         0.000000                      0.0   \n3              0.000000         0.058824                      0.0   \n4              0.015385         0.000000                      0.0   \n\n   Health Food Store  Historic Site  History Museum  Hobby Shop  Hookah Bar  \\\n0                0.0            0.0             0.0         0.0         0.0   \n1                0.0            0.0             0.0         0.0         0.0   \n2                0.0            0.0             0.0         0.0         0.0   \n3                0.0            0.0             0.0         0.0         0.0   \n4                0.0            0.0             0.0         0.0         0.0   \n\n   Hospital     Hotel  IT Services  Ice Cream Shop  Indian Restaurant  \\\n0       0.0  0.017241          0.0        0.000000           0.017241   \n1       0.0  0.000000          0.0        0.000000           0.000000   \n2       0.0  0.000000          0.0        0.000000           0.000000   \n3       0.0  0.000000          0.0        0.000000           0.000000   \n4       0.0  0.015385          0.0        0.015385           0.015385   \n\n   Indie Movie Theater  Intersection  Irish Pub  Italian Restaurant  \\\n0                  0.0      0.000000   0.017241            0.017241   \n1                  0.0      0.045455   0.000000            0.045455   \n2                  0.0      0.000000   0.000000            0.000000   \n3                  0.0      0.000000   0.000000            0.000000   \n4                  0.0      0.000000   0.000000            0.061538   \n\n   Japanese Restaurant  Jazz Club  Jewelry Store  Juice Bar  \\\n0             0.017241   0.017241            0.0        0.0   \n1             0.000000   0.000000            0.0        0.0   \n2             0.000000   0.000000            0.0        0.0   \n3             0.000000   0.000000            0.0        0.0   \n4             0.030769   0.000000            0.0        0.0   \n\n   Korean Restaurant  Lake  Latin American Restaurant  Light Rail Station  \\\n0           0.000000   0.0                        0.0            0.000000   \n1           0.000000   0.0                        0.0            0.000000   \n2           0.000000   0.0                        0.0            0.117647   \n3           0.000000   0.0                        0.0            0.000000   \n4           0.015385   0.0                        0.0            0.000000   \n\n   Lingerie Store  Liquor Store    Lounge  Market  Martial Arts Dojo  \\\n0             0.0      0.017241  0.017241     0.0                0.0   \n1             0.0      0.000000  0.000000     0.0                0.0   \n2             0.0      0.000000  0.000000     0.0                0.0   \n3             0.0      0.000000  0.000000     0.0                0.0   \n4             0.0      0.000000  0.000000     0.0                0.0   \n\n   Mediterranean Restaurant  Men's Store  Metro Station  Mexican Restaurant  \\\n0                       0.0          0.0       0.000000                 0.0   \n1                       0.0          0.0       0.000000                 0.0   \n2                       0.0          0.0       0.000000                 0.0   \n3                       0.0          0.0       0.000000                 0.0   \n4                       0.0          0.0       0.015385                 0.0   \n\n   Middle Eastern Restaurant  Miscellaneous Shop  Modern European Restaurant  \\\n0                   0.000000            0.000000                    0.000000   \n1                   0.000000            0.000000                    0.000000   \n2                   0.000000            0.000000                    0.000000   \n3                   0.000000            0.000000                    0.000000   \n4                   0.015385            0.015385                    0.015385   \n\n   Molecular Gastronomy Restaurant  Monument / Landmark  Moroccan Restaurant  \\\n0                              0.0                  0.0                  0.0   \n1                              0.0                  0.0                  0.0   \n2                              0.0                  0.0                  0.0   \n3                              0.0                  0.0                  0.0   \n4                              0.0                  0.0                  0.0   \n\n   Movie Theater    Museum  Music Venue  New American Restaurant  Nightclub  \\\n0            0.0  0.017241          0.0                 0.000000   0.000000   \n1            0.0  0.000000          0.0                 0.000000   0.045455   \n2            0.0  0.000000          0.0                 0.000000   0.000000   \n3            0.0  0.000000          0.0                 0.000000   0.000000   \n4            0.0  0.000000          0.0                 0.015385   0.000000   \n\n   Noodle House    Office  Opera House  Optical Shop  Organic Grocery  \\\n0           0.0  0.000000          0.0           0.0              0.0   \n1           0.0  0.000000          0.0           0.0              0.0   \n2           0.0  0.000000          0.0           0.0              0.0   \n3           0.0  0.000000          0.0           0.0              0.0   \n4           0.0  0.015385          0.0           0.0              0.0   \n\n   Other Great Outdoors      Park  Performing Arts Venue  Pet Store  Pharmacy  \\\n0                   0.0  0.017241               0.000000   0.000000  0.017241   \n1                   0.0  0.000000               0.045455   0.045455  0.000000   \n2                   0.0  0.058824               0.000000   0.000000  0.000000   \n3                   0.0  0.000000               0.000000   0.000000  0.000000   \n4                   0.0  0.015385               0.000000   0.000000  0.000000   \n\n   Pizza Place     Plane  Playground  Plaza  Poke Place  Poutine Place  Pub  \\\n0     0.000000  0.000000         0.0    0.0    0.000000            0.0  0.0   \n1     0.000000  0.000000         0.0    0.0    0.000000            0.0  0.0   \n2     0.058824  0.000000         0.0    0.0    0.000000            0.0  0.0   \n3     0.000000  0.058824         0.0    0.0    0.000000            0.0  0.0   \n4     0.015385  0.000000         0.0    0.0    0.015385            0.0  0.0   \n\n   Ramen Restaurant  Record Shop  Rental Car Location  Restaurant  Roof Deck  \\\n0               0.0          0.0             0.000000    0.034483        0.0   \n1               0.0          0.0             0.000000    0.045455        0.0   \n2               0.0          0.0             0.000000    0.058824        0.0   \n3               0.0          0.0             0.058824    0.000000        0.0   \n4               0.0          0.0             0.000000    0.000000        0.0   \n\n   Sake Bar  Salad Place  Salon / Barbershop  Sandwich Place  Scenic Lookout  \\\n0       0.0     0.000000                 0.0        0.000000             0.0   \n1       0.0     0.000000                 0.0        0.000000             0.0   \n2       0.0     0.000000                 0.0        0.000000             0.0   \n3       0.0     0.000000                 0.0        0.000000             0.0   \n4       0.0     0.030769                 0.0        0.046154             0.0   \n\n   Sculpture Garden  Seafood Restaurant  Shoe Store  Shopping Mall  \\\n0          0.000000            0.034483         0.0       0.017241   \n1          0.000000            0.000000         0.0       0.000000   \n2          0.000000            0.000000         0.0       0.000000   \n3          0.058824            0.000000         0.0       0.000000   \n4          0.000000            0.015385         0.0       0.000000   \n\n   Skate Park  Skating Rink  Smoke Shop  Smoothie Shop  Snack Place  \\\n0    0.000000           0.0         0.0            0.0          0.0   \n1    0.000000           0.0         0.0            0.0          0.0   \n2    0.058824           0.0         0.0            0.0          0.0   \n3    0.000000           0.0         0.0            0.0          0.0   \n4    0.000000           0.0         0.0            0.0          0.0   \n\n   Soup Place  Southern / Soul Food Restaurant       Spa  Speakeasy  \\\n0         0.0                              0.0  0.000000        0.0   \n1         0.0                              0.0  0.000000        0.0   \n2         0.0                              0.0  0.000000        0.0   \n3         0.0                              0.0  0.000000        0.0   \n4         0.0                              0.0  0.015385        0.0   \n\n   Sporting Goods Shop  Sports Bar   Stadium  Stationery Store  Steakhouse  \\\n0                  0.0         0.0  0.000000               0.0    0.017241   \n1                  0.0         0.0  0.045455               0.0    0.000000   \n2                  0.0         0.0  0.000000               0.0    0.000000   \n3                  0.0         0.0  0.000000               0.0    0.000000   \n4                  0.0         0.0  0.000000               0.0    0.000000   \n\n   Strip Club  Supermarket  Sushi Restaurant  Swim School  Taco Place  \\\n0         0.0          0.0          0.017241          0.0         0.0   \n1         0.0          0.0          0.000000          0.0         0.0   \n2         0.0          0.0          0.000000          0.0         0.0   \n3         0.0          0.0          0.000000          0.0         0.0   \n4         0.0          0.0          0.015385          0.0         0.0   \n\n   Tailor Shop  Taiwanese Restaurant  Tanning Salon  Tea Room  Tennis Court  \\\n0     0.017241                   0.0            0.0       0.0           0.0   \n1     0.000000                   0.0            0.0       0.0           0.0   \n2     0.000000                   0.0            0.0       0.0           0.0   \n3     0.000000                   0.0            0.0       0.0           0.0   \n4     0.000000                   0.0            0.0       0.0           0.0   \n\n   Thai Restaurant  Theater  Theme Restaurant  Toy / Game Store  Trail  \\\n0         0.017241      0.0               0.0               0.0    0.0   \n1         0.000000      0.0               0.0               0.0    0.0   \n2         0.000000      0.0               0.0               0.0    0.0   \n3         0.000000      0.0               0.0               0.0    0.0   \n4         0.015385      0.0               0.0               0.0    0.0   \n\n   Train Station  Vegetarian / Vegan Restaurant  Video Game Store  \\\n0            0.0                       0.017241               0.0   \n1            0.0                       0.000000               0.0   \n2            0.0                       0.000000               0.0   \n3            0.0                       0.000000               0.0   \n4            0.0                       0.015385               0.0   \n\n   Vietnamese Restaurant  Wine Bar  Women's Store  Yoga Studio  \n0                    0.0  0.000000            0.0     0.000000  \n1                    0.0  0.000000            0.0     0.000000  \n2                    0.0  0.000000            0.0     0.058824  \n3                    0.0  0.000000            0.0     0.000000  \n4                    0.0  0.015385            0.0     0.015385  ",
      "text/html": "<div>\n<style scoped>\n    .dataframe tbody tr th:only-of-type {\n        vertical-align: middle;\n    }\n\n    .dataframe tbody tr th {\n        vertical-align: top;\n    }\n\n    .dataframe thead th {\n        text-align: right;\n    }\n</style>\n<table border=\"1\" class=\"dataframe\">\n  <thead>\n    <tr style=\"text-align: right;\">\n      <th></th>\n      <th>Neighborhood</th>\n      <th>Afghan Restaurant</th>\n      <th>Airport</th>\n      <th>Airport Food Court</th>\n      <th>Airport Gate</th>\n      <th>Airport Lounge</th>\n      <th>Airport Service</th>\n      <th>Airport Terminal</th>\n      <th>American Restaurant</th>\n      <th>Antique Shop</th>\n      <th>Aquarium</th>\n      <th>Art Gallery</th>\n      <th>Art Museum</th>\n      <th>Arts &amp; Crafts Store</th>\n      <th>Asian Restaurant</th>\n      <th>Auto Workshop</th>\n      <th>BBQ Joint</th>\n      <th>Baby Store</th>\n      <th>Bagel Shop</th>\n      <th>Bakery</th>\n      <th>Bank</th>\n      <th>Bar</th>\n      <th>Baseball Stadium</th>\n      <th>Basketball Stadium</th>\n      <th>Beach</th>\n      <th>Bed &amp; Breakfast</th>\n      <th>Beer Bar</th>\n      <th>Beer Store</th>\n      <th>Belgian Restaurant</th>\n      <th>Bistro</th>\n      <th>Boat or Ferry</th>\n      <th>Bookstore</th>\n      <th>Brazilian Restaurant</th>\n      <th>Breakfast Spot</th>\n      <th>Brewery</th>\n      <th>Bubble Tea Shop</th>\n      <th>Building</th>\n      <th>Burger Joint</th>\n      <th>Burrito Place</th>\n      <th>Bus Line</th>\n      <th>Bus Stop</th>\n      <th>Butcher</th>\n      <th>Café</th>\n      <th>Cajun / Creole Restaurant</th>\n      <th>Camera Store</th>\n      <th>Candy Store</th>\n      <th>Caribbean Restaurant</th>\n      <th>Cheese Shop</th>\n      <th>Chinese Restaurant</th>\n      <th>Chocolate Shop</th>\n      <th>Church</th>\n      <th>Climbing Gym</th>\n      <th>Clothing Store</th>\n      <th>Cocktail Bar</th>\n      <th>Coffee Shop</th>\n      <th>College Arts Building</th>\n      <th>College Auditorium</th>\n      <th>College Gym</th>\n      <th>College Rec Center</th>\n      <th>Colombian Restaurant</th>\n      <th>Comfort Food Restaurant</th>\n      <th>Comic Shop</th>\n      <th>Concert Hall</th>\n      <th>Convenience Store</th>\n      <th>Convention Center</th>\n      <th>Cosmetics Shop</th>\n      <th>Coworking Space</th>\n      <th>Creperie</th>\n      <th>Cuban Restaurant</th>\n      <th>Cupcake Shop</th>\n      <th>Dance Studio</th>\n      <th>Deli / Bodega</th>\n      <th>Department Store</th>\n      <th>Dessert Shop</th>\n      <th>Diner</th>\n      <th>Discount Store</th>\n      <th>Distribution Center</th>\n      <th>Dog Run</th>\n      <th>Doner Restaurant</th>\n      <th>Donut Shop</th>\n      <th>Dumpling Restaurant</th>\n      <th>Eastern European Restaurant</th>\n      <th>Electronics Store</th>\n      <th>Ethiopian Restaurant</th>\n      <th>Event Space</th>\n      <th>Falafel Restaurant</th>\n      <th>Farmers Market</th>\n      <th>Fast Food Restaurant</th>\n      <th>Filipino Restaurant</th>\n      <th>Fish &amp; Chips Shop</th>\n      <th>Fish Market</th>\n      <th>Flea Market</th>\n      <th>Flower Shop</th>\n      <th>Food &amp; Drink Shop</th>\n      <th>Food Court</th>\n      <th>Food Truck</th>\n      <th>Fountain</th>\n      <th>French Restaurant</th>\n      <th>Fried Chicken Joint</th>\n      <th>Frozen Yogurt Shop</th>\n      <th>Fruit &amp; Vegetable Store</th>\n      <th>Furniture / Home Store</th>\n      <th>Gaming Cafe</th>\n      <th>Garden</th>\n      <th>Garden Center</th>\n      <th>Gas Station</th>\n      <th>Gastropub</th>\n      <th>Gay Bar</th>\n      <th>General Entertainment</th>\n      <th>General Travel</th>\n      <th>German Restaurant</th>\n      <th>Gift Shop</th>\n      <th>Gluten-free Restaurant</th>\n      <th>Gourmet Shop</th>\n      <th>Greek Restaurant</th>\n      <th>Grocery Store</th>\n      <th>Gym</th>\n      <th>Gym / Fitness Center</th>\n      <th>Harbor / Marina</th>\n      <th>Health &amp; Beauty Service</th>\n      <th>Health Food Store</th>\n      <th>Historic Site</th>\n      <th>History Museum</th>\n      <th>Hobby Shop</th>\n      <th>Hookah Bar</th>\n      <th>Hospital</th>\n      <th>Hotel</th>\n      <th>IT Services</th>\n      <th>Ice Cream Shop</th>\n      <th>Indian Restaurant</th>\n      <th>Indie Movie Theater</th>\n      <th>Intersection</th>\n      <th>Irish Pub</th>\n      <th>Italian Restaurant</th>\n      <th>Japanese Restaurant</th>\n      <th>Jazz Club</th>\n      <th>Jewelry Store</th>\n      <th>Juice Bar</th>\n      <th>Korean Restaurant</th>\n      <th>Lake</th>\n      <th>Latin American Restaurant</th>\n      <th>Light Rail Station</th>\n      <th>Lingerie Store</th>\n      <th>Liquor Store</th>\n      <th>Lounge</th>\n      <th>Market</th>\n      <th>Martial Arts Dojo</th>\n      <th>Mediterranean Restaurant</th>\n      <th>Men's Store</th>\n      <th>Metro Station</th>\n      <th>Mexican Restaurant</th>\n      <th>Middle Eastern Restaurant</th>\n      <th>Miscellaneous Shop</th>\n      <th>Modern European Restaurant</th>\n      <th>Molecular Gastronomy Restaurant</th>\n      <th>Monument / Landmark</th>\n      <th>Moroccan Restaurant</th>\n      <th>Movie Theater</th>\n      <th>Museum</th>\n      <th>Music Venue</th>\n      <th>New American Restaurant</th>\n      <th>Nightclub</th>\n      <th>Noodle House</th>\n      <th>Office</th>\n      <th>Opera House</th>\n      <th>Optical Shop</th>\n      <th>Organic Grocery</th>\n      <th>Other Great Outdoors</th>\n      <th>Park</th>\n      <th>Performing Arts Venue</th>\n      <th>Pet Store</th>\n      <th>Pharmacy</th>\n      <th>Pizza Place</th>\n      <th>Plane</th>\n      <th>Playground</th>\n      <th>Plaza</th>\n      <th>Poke Place</th>\n      <th>Poutine Place</th>\n      <th>Pub</th>\n      <th>Ramen Restaurant</th>\n      <th>Record Shop</th>\n      <th>Rental Car Location</th>\n      <th>Restaurant</th>\n      <th>Roof Deck</th>\n      <th>Sake Bar</th>\n      <th>Salad Place</th>\n      <th>Salon / Barbershop</th>\n      <th>Sandwich Place</th>\n      <th>Scenic Lookout</th>\n      <th>Sculpture Garden</th>\n      <th>Seafood Restaurant</th>\n      <th>Shoe Store</th>\n      <th>Shopping Mall</th>\n      <th>Skate Park</th>\n      <th>Skating Rink</th>\n      <th>Smoke Shop</th>\n      <th>Smoothie Shop</th>\n      <th>Snack Place</th>\n      <th>Soup Place</th>\n      <th>Southern / Soul Food Restaurant</th>\n      <th>Spa</th>\n      <th>Speakeasy</th>\n      <th>Sporting Goods Shop</th>\n      <th>Sports Bar</th>\n      <th>Stadium</th>\n      <th>Stationery Store</th>\n      <th>Steakhouse</th>\n      <th>Strip Club</th>\n      <th>Supermarket</th>\n      <th>Sushi Restaurant</th>\n      <th>Swim School</th>\n      <th>Taco Place</th>\n      <th>Tailor Shop</th>\n      <th>Taiwanese Restaurant</th>\n      <th>Tanning Salon</th>\n      <th>Tea Room</th>\n      <th>Tennis Court</th>\n      <th>Thai Restaurant</th>\n      <th>Theater</th>\n      <th>Theme Restaurant</th>\n      <th>Toy / Game Store</th>\n      <th>Trail</th>\n      <th>Train Station</th>\n      <th>Vegetarian / Vegan Restaurant</th>\n      <th>Video Game Store</th>\n      <th>Vietnamese Restaurant</th>\n      <th>Wine Bar</th>\n      <th>Women's Store</th>\n      <th>Yoga Studio</th>\n    </tr>\n  </thead>\n  <tbody>\n    <tr>\n      <th>0</th>\n      <td>Berczy Park</td>\n      <td>0.0</td>\n      <td>0.000000</td>\n      <td>0.000000</td>\n      <td>0.000000</td>\n      <td>0.000000</td>\n      <td>0.000000</td>\n      <td>0.000000</td>\n      <td>0.0</td>\n      <td>0.0</td>\n      <td>0.0</td>\n      <td>0.017241</td>\n      <td>0.000000</td>\n      <td>0.0</td>\n      <td>0.0</td>\n      <td>0.000000</td>\n      <td>0.017241</td>\n      <td>0.0</td>\n      <td>0.017241</td>\n      <td>0.034483</td>\n      <td>0.0</td>\n      <td>0.000000</td>\n      <td>0.0</td>\n      <td>0.017241</td>\n      <td>0.017241</td>\n      <td>0.0</td>\n      <td>0.034483</td>\n      <td>0.0</td>\n      <td>0.0</td>\n      <td>0.017241</td>\n      <td>0.000000</td>\n      <td>0.0</td>\n      <td>0.0</td>\n      <td>0.017241</td>\n      <td>0.000000</td>\n      <td>0.000000</td>\n      <td>0.0</td>\n      <td>0.000000</td>\n      <td>0.000000</td>\n      <td>0.0</td>\n      <td>0.0</td>\n      <td>0.000000</td>\n      <td>0.034483</td>\n      <td>0.0</td>\n      <td>0.0</td>\n      <td>0.0</td>\n      <td>0.0</td>\n      <td>0.034483</td>\n      <td>0.0</td>\n      <td>0.0</td>\n      <td>0.0</td>\n      <td>0.000000</td>\n      <td>0.0</td>\n      <td>0.034483</td>\n      <td>0.086207</td>\n      <td>0.0</td>\n      <td>0.0</td>\n      <td>0.0</td>\n      <td>0.0</td>\n      <td>0.0</td>\n      <td>0.017241</td>\n      <td>0.000000</td>\n      <td>0.017241</td>\n      <td>0.000000</td>\n      <td>0.0</td>\n      <td>0.0</td>\n      <td>0.0</td>\n      <td>0.017241</td>\n      <td>0.0</td>\n      <td>0.0</td>\n      <td>0.0</td>\n      <td>0.0</td>\n      <td>0.017241</td>\n      <td>0.000000</td>\n      <td>0.017241</td>\n      <td>0.000000</td>\n      <td>0.0</td>\n      <td>0.0</td>\n      <td>0.0</td>\n      <td>0.000000</td>\n      <td>0.0</td>\n      <td>0.017241</td>\n      <td>0.0</td>\n      <td>0.0</td>\n      <td>0.0</td>\n      <td>0.000000</td>\n      <td>0.034483</td>\n      <td>0.000000</td>\n      <td>0.0</td>\n      <td>0.0</td>\n      <td>0.017241</td>\n      <td>0.0</td>\n      <td>0.0</td>\n      <td>0.0</td>\n      <td>0.0</td>\n      <td>0.0</td>\n      <td>0.017241</td>\n      <td>0.017241</td>\n      <td>0.0</td>\n      <td>0.0</td>\n      <td>0.0</td>\n      <td>0.000000</td>\n      <td>0.0</td>\n      <td>0.000000</td>\n      <td>0.000000</td>\n      <td>0.0</td>\n      <td>0.000000</td>\n      <td>0.0</td>\n      <td>0.0</td>\n      <td>0.0</td>\n      <td>0.0</td>\n      <td>0.0</td>\n      <td>0.0</td>\n      <td>0.017241</td>\n      <td>0.017241</td>\n      <td>0.017241</td>\n      <td>0.017241</td>\n      <td>0.000000</td>\n      <td>0.000000</td>\n      <td>0.0</td>\n      <td>0.0</td>\n      <td>0.0</td>\n      <td>0.0</td>\n      <td>0.0</td>\n      <td>0.0</td>\n      <td>0.0</td>\n      <td>0.017241</td>\n      <td>0.0</td>\n      <td>0.000000</td>\n      <td>0.017241</td>\n      <td>0.0</td>\n      <td>0.000000</td>\n      <td>0.017241</td>\n      <td>0.017241</td>\n      <td>0.017241</td>\n      <td>0.017241</td>\n      <td>0.0</td>\n      <td>0.0</td>\n      <td>0.000000</td>\n      <td>0.0</td>\n      <td>0.0</td>\n      <td>0.000000</td>\n      <td>0.0</td>\n      <td>0.017241</td>\n      <td>0.017241</td>\n      <td>0.0</td>\n      <td>0.0</td>\n      <td>0.0</td>\n      <td>0.0</td>\n      <td>0.000000</td>\n      <td>0.0</td>\n      <td>0.000000</td>\n      <td>0.000000</td>\n      <td>0.000000</td>\n      <td>0.0</td>\n      <td>0.0</td>\n      <td>0.0</td>\n      <td>0.0</td>\n      <td>0.017241</td>\n      <td>0.0</td>\n      <td>0.000000</td>\n      <td>0.000000</td>\n      <td>0.0</td>\n      <td>0.000000</td>\n      <td>0.0</td>\n      <td>0.0</td>\n      <td>0.0</td>\n      <td>0.0</td>\n      <td>0.017241</td>\n      <td>0.000000</td>\n      <td>0.000000</td>\n      <td>0.017241</td>\n      <td>0.000000</td>\n      <td>0.000000</td>\n      <td>0.0</td>\n      <td>0.0</td>\n      <td>0.000000</td>\n      <td>0.0</td>\n      <td>0.0</td>\n      <td>0.0</td>\n      <td>0.0</td>\n      <td>0.000000</td>\n      <td>0.034483</td>\n      <td>0.0</td>\n      <td>0.0</td>\n      <td>0.000000</td>\n      <td>0.0</td>\n      <td>0.000000</td>\n      <td>0.0</td>\n      <td>0.000000</td>\n      <td>0.034483</td>\n      <td>0.0</td>\n      <td>0.017241</td>\n      <td>0.000000</td>\n      <td>0.0</td>\n      <td>0.0</td>\n      <td>0.0</td>\n      <td>0.0</td>\n      <td>0.0</td>\n      <td>0.0</td>\n      <td>0.000000</td>\n      <td>0.0</td>\n      <td>0.0</td>\n      <td>0.0</td>\n      <td>0.000000</td>\n      <td>0.0</td>\n      <td>0.017241</td>\n      <td>0.0</td>\n      <td>0.0</td>\n      <td>0.017241</td>\n      <td>0.0</td>\n      <td>0.0</td>\n      <td>0.017241</td>\n      <td>0.0</td>\n      <td>0.0</td>\n      <td>0.0</td>\n      <td>0.0</td>\n      <td>0.017241</td>\n      <td>0.0</td>\n      <td>0.0</td>\n      <td>0.0</td>\n      <td>0.0</td>\n      <td>0.0</td>\n      <td>0.017241</td>\n      <td>0.0</td>\n      <td>0.0</td>\n      <td>0.000000</td>\n      <td>0.0</td>\n      <td>0.000000</td>\n    </tr>\n    <tr>\n      <th>1</th>\n      <td>Brockton, Parkdale Village, Exhibition Place</td>\n      <td>0.0</td>\n      <td>0.000000</td>\n      <td>0.000000</td>\n      <td>0.000000</td>\n      <td>0.000000</td>\n      <td>0.000000</td>\n      <td>0.000000</td>\n      <td>0.0</td>\n      <td>0.0</td>\n      <td>0.0</td>\n      <td>0.000000</td>\n      <td>0.000000</td>\n      <td>0.0</td>\n      <td>0.0</td>\n      <td>0.000000</td>\n      <td>0.000000</td>\n      <td>0.0</td>\n      <td>0.000000</td>\n      <td>0.045455</td>\n      <td>0.0</td>\n      <td>0.045455</td>\n      <td>0.0</td>\n      <td>0.000000</td>\n      <td>0.000000</td>\n      <td>0.0</td>\n      <td>0.000000</td>\n      <td>0.0</td>\n      <td>0.0</td>\n      <td>0.000000</td>\n      <td>0.000000</td>\n      <td>0.0</td>\n      <td>0.0</td>\n      <td>0.090909</td>\n      <td>0.000000</td>\n      <td>0.000000</td>\n      <td>0.0</td>\n      <td>0.000000</td>\n      <td>0.045455</td>\n      <td>0.0</td>\n      <td>0.0</td>\n      <td>0.000000</td>\n      <td>0.136364</td>\n      <td>0.0</td>\n      <td>0.0</td>\n      <td>0.0</td>\n      <td>0.0</td>\n      <td>0.000000</td>\n      <td>0.0</td>\n      <td>0.0</td>\n      <td>0.0</td>\n      <td>0.045455</td>\n      <td>0.0</td>\n      <td>0.000000</td>\n      <td>0.090909</td>\n      <td>0.0</td>\n      <td>0.0</td>\n      <td>0.0</td>\n      <td>0.0</td>\n      <td>0.0</td>\n      <td>0.000000</td>\n      <td>0.000000</td>\n      <td>0.000000</td>\n      <td>0.045455</td>\n      <td>0.0</td>\n      <td>0.0</td>\n      <td>0.0</td>\n      <td>0.000000</td>\n      <td>0.0</td>\n      <td>0.0</td>\n      <td>0.0</td>\n      <td>0.0</td>\n      <td>0.000000</td>\n      <td>0.000000</td>\n      <td>0.000000</td>\n      <td>0.000000</td>\n      <td>0.0</td>\n      <td>0.0</td>\n      <td>0.0</td>\n      <td>0.000000</td>\n      <td>0.0</td>\n      <td>0.000000</td>\n      <td>0.0</td>\n      <td>0.0</td>\n      <td>0.0</td>\n      <td>0.000000</td>\n      <td>0.000000</td>\n      <td>0.000000</td>\n      <td>0.0</td>\n      <td>0.0</td>\n      <td>0.000000</td>\n      <td>0.0</td>\n      <td>0.0</td>\n      <td>0.0</td>\n      <td>0.0</td>\n      <td>0.0</td>\n      <td>0.000000</td>\n      <td>0.000000</td>\n      <td>0.0</td>\n      <td>0.0</td>\n      <td>0.0</td>\n      <td>0.045455</td>\n      <td>0.0</td>\n      <td>0.000000</td>\n      <td>0.000000</td>\n      <td>0.0</td>\n      <td>0.000000</td>\n      <td>0.0</td>\n      <td>0.0</td>\n      <td>0.0</td>\n      <td>0.0</td>\n      <td>0.0</td>\n      <td>0.0</td>\n      <td>0.000000</td>\n      <td>0.000000</td>\n      <td>0.045455</td>\n      <td>0.045455</td>\n      <td>0.000000</td>\n      <td>0.000000</td>\n      <td>0.0</td>\n      <td>0.0</td>\n      <td>0.0</td>\n      <td>0.0</td>\n      <td>0.0</td>\n      <td>0.0</td>\n      <td>0.0</td>\n      <td>0.000000</td>\n      <td>0.0</td>\n      <td>0.000000</td>\n      <td>0.000000</td>\n      <td>0.0</td>\n      <td>0.045455</td>\n      <td>0.000000</td>\n      <td>0.045455</td>\n      <td>0.000000</td>\n      <td>0.000000</td>\n      <td>0.0</td>\n      <td>0.0</td>\n      <td>0.000000</td>\n      <td>0.0</td>\n      <td>0.0</td>\n      <td>0.000000</td>\n      <td>0.0</td>\n      <td>0.000000</td>\n      <td>0.000000</td>\n      <td>0.0</td>\n      <td>0.0</td>\n      <td>0.0</td>\n      <td>0.0</td>\n      <td>0.000000</td>\n      <td>0.0</td>\n      <td>0.000000</td>\n      <td>0.000000</td>\n      <td>0.000000</td>\n      <td>0.0</td>\n      <td>0.0</td>\n      <td>0.0</td>\n      <td>0.0</td>\n      <td>0.000000</td>\n      <td>0.0</td>\n      <td>0.000000</td>\n      <td>0.045455</td>\n      <td>0.0</td>\n      <td>0.000000</td>\n      <td>0.0</td>\n      <td>0.0</td>\n      <td>0.0</td>\n      <td>0.0</td>\n      <td>0.000000</td>\n      <td>0.045455</td>\n      <td>0.045455</td>\n      <td>0.000000</td>\n      <td>0.000000</td>\n      <td>0.000000</td>\n      <td>0.0</td>\n      <td>0.0</td>\n      <td>0.000000</td>\n      <td>0.0</td>\n      <td>0.0</td>\n      <td>0.0</td>\n      <td>0.0</td>\n      <td>0.000000</td>\n      <td>0.045455</td>\n      <td>0.0</td>\n      <td>0.0</td>\n      <td>0.000000</td>\n      <td>0.0</td>\n      <td>0.000000</td>\n      <td>0.0</td>\n      <td>0.000000</td>\n      <td>0.000000</td>\n      <td>0.0</td>\n      <td>0.000000</td>\n      <td>0.000000</td>\n      <td>0.0</td>\n      <td>0.0</td>\n      <td>0.0</td>\n      <td>0.0</td>\n      <td>0.0</td>\n      <td>0.0</td>\n      <td>0.000000</td>\n      <td>0.0</td>\n      <td>0.0</td>\n      <td>0.0</td>\n      <td>0.045455</td>\n      <td>0.0</td>\n      <td>0.000000</td>\n      <td>0.0</td>\n      <td>0.0</td>\n      <td>0.000000</td>\n      <td>0.0</td>\n      <td>0.0</td>\n      <td>0.000000</td>\n      <td>0.0</td>\n      <td>0.0</td>\n      <td>0.0</td>\n      <td>0.0</td>\n      <td>0.000000</td>\n      <td>0.0</td>\n      <td>0.0</td>\n      <td>0.0</td>\n      <td>0.0</td>\n      <td>0.0</td>\n      <td>0.000000</td>\n      <td>0.0</td>\n      <td>0.0</td>\n      <td>0.000000</td>\n      <td>0.0</td>\n      <td>0.000000</td>\n    </tr>\n    <tr>\n      <th>2</th>\n      <td>Business reply mail Processing Centre, South C...</td>\n      <td>0.0</td>\n      <td>0.000000</td>\n      <td>0.000000</td>\n      <td>0.000000</td>\n      <td>0.000000</td>\n      <td>0.000000</td>\n      <td>0.000000</td>\n      <td>0.0</td>\n      <td>0.0</td>\n      <td>0.0</td>\n      <td>0.000000</td>\n      <td>0.000000</td>\n      <td>0.0</td>\n      <td>0.0</td>\n      <td>0.058824</td>\n      <td>0.000000</td>\n      <td>0.0</td>\n      <td>0.000000</td>\n      <td>0.000000</td>\n      <td>0.0</td>\n      <td>0.000000</td>\n      <td>0.0</td>\n      <td>0.000000</td>\n      <td>0.000000</td>\n      <td>0.0</td>\n      <td>0.000000</td>\n      <td>0.0</td>\n      <td>0.0</td>\n      <td>0.000000</td>\n      <td>0.000000</td>\n      <td>0.0</td>\n      <td>0.0</td>\n      <td>0.000000</td>\n      <td>0.058824</td>\n      <td>0.000000</td>\n      <td>0.0</td>\n      <td>0.000000</td>\n      <td>0.058824</td>\n      <td>0.0</td>\n      <td>0.0</td>\n      <td>0.058824</td>\n      <td>0.000000</td>\n      <td>0.0</td>\n      <td>0.0</td>\n      <td>0.0</td>\n      <td>0.0</td>\n      <td>0.000000</td>\n      <td>0.0</td>\n      <td>0.0</td>\n      <td>0.0</td>\n      <td>0.000000</td>\n      <td>0.0</td>\n      <td>0.000000</td>\n      <td>0.000000</td>\n      <td>0.0</td>\n      <td>0.0</td>\n      <td>0.0</td>\n      <td>0.0</td>\n      <td>0.0</td>\n      <td>0.000000</td>\n      <td>0.058824</td>\n      <td>0.000000</td>\n      <td>0.000000</td>\n      <td>0.0</td>\n      <td>0.0</td>\n      <td>0.0</td>\n      <td>0.000000</td>\n      <td>0.0</td>\n      <td>0.0</td>\n      <td>0.0</td>\n      <td>0.0</td>\n      <td>0.000000</td>\n      <td>0.000000</td>\n      <td>0.000000</td>\n      <td>0.000000</td>\n      <td>0.0</td>\n      <td>0.0</td>\n      <td>0.0</td>\n      <td>0.000000</td>\n      <td>0.0</td>\n      <td>0.000000</td>\n      <td>0.0</td>\n      <td>0.0</td>\n      <td>0.0</td>\n      <td>0.000000</td>\n      <td>0.058824</td>\n      <td>0.058824</td>\n      <td>0.0</td>\n      <td>0.0</td>\n      <td>0.000000</td>\n      <td>0.0</td>\n      <td>0.0</td>\n      <td>0.0</td>\n      <td>0.0</td>\n      <td>0.0</td>\n      <td>0.000000</td>\n      <td>0.000000</td>\n      <td>0.0</td>\n      <td>0.0</td>\n      <td>0.0</td>\n      <td>0.000000</td>\n      <td>0.0</td>\n      <td>0.058824</td>\n      <td>0.058824</td>\n      <td>0.0</td>\n      <td>0.000000</td>\n      <td>0.0</td>\n      <td>0.0</td>\n      <td>0.0</td>\n      <td>0.0</td>\n      <td>0.0</td>\n      <td>0.0</td>\n      <td>0.000000</td>\n      <td>0.000000</td>\n      <td>0.000000</td>\n      <td>0.000000</td>\n      <td>0.058824</td>\n      <td>0.000000</td>\n      <td>0.0</td>\n      <td>0.0</td>\n      <td>0.0</td>\n      <td>0.0</td>\n      <td>0.0</td>\n      <td>0.0</td>\n      <td>0.0</td>\n      <td>0.000000</td>\n      <td>0.0</td>\n      <td>0.000000</td>\n      <td>0.000000</td>\n      <td>0.0</td>\n      <td>0.000000</td>\n      <td>0.000000</td>\n      <td>0.000000</td>\n      <td>0.000000</td>\n      <td>0.000000</td>\n      <td>0.0</td>\n      <td>0.0</td>\n      <td>0.000000</td>\n      <td>0.0</td>\n      <td>0.0</td>\n      <td>0.117647</td>\n      <td>0.0</td>\n      <td>0.000000</td>\n      <td>0.000000</td>\n      <td>0.0</td>\n      <td>0.0</td>\n      <td>0.0</td>\n      <td>0.0</td>\n      <td>0.000000</td>\n      <td>0.0</td>\n      <td>0.000000</td>\n      <td>0.000000</td>\n      <td>0.000000</td>\n      <td>0.0</td>\n      <td>0.0</td>\n      <td>0.0</td>\n      <td>0.0</td>\n      <td>0.000000</td>\n      <td>0.0</td>\n      <td>0.000000</td>\n      <td>0.000000</td>\n      <td>0.0</td>\n      <td>0.000000</td>\n      <td>0.0</td>\n      <td>0.0</td>\n      <td>0.0</td>\n      <td>0.0</td>\n      <td>0.058824</td>\n      <td>0.000000</td>\n      <td>0.000000</td>\n      <td>0.000000</td>\n      <td>0.058824</td>\n      <td>0.000000</td>\n      <td>0.0</td>\n      <td>0.0</td>\n      <td>0.000000</td>\n      <td>0.0</td>\n      <td>0.0</td>\n      <td>0.0</td>\n      <td>0.0</td>\n      <td>0.000000</td>\n      <td>0.058824</td>\n      <td>0.0</td>\n      <td>0.0</td>\n      <td>0.000000</td>\n      <td>0.0</td>\n      <td>0.000000</td>\n      <td>0.0</td>\n      <td>0.000000</td>\n      <td>0.000000</td>\n      <td>0.0</td>\n      <td>0.000000</td>\n      <td>0.058824</td>\n      <td>0.0</td>\n      <td>0.0</td>\n      <td>0.0</td>\n      <td>0.0</td>\n      <td>0.0</td>\n      <td>0.0</td>\n      <td>0.000000</td>\n      <td>0.0</td>\n      <td>0.0</td>\n      <td>0.0</td>\n      <td>0.000000</td>\n      <td>0.0</td>\n      <td>0.000000</td>\n      <td>0.0</td>\n      <td>0.0</td>\n      <td>0.000000</td>\n      <td>0.0</td>\n      <td>0.0</td>\n      <td>0.000000</td>\n      <td>0.0</td>\n      <td>0.0</td>\n      <td>0.0</td>\n      <td>0.0</td>\n      <td>0.000000</td>\n      <td>0.0</td>\n      <td>0.0</td>\n      <td>0.0</td>\n      <td>0.0</td>\n      <td>0.0</td>\n      <td>0.000000</td>\n      <td>0.0</td>\n      <td>0.0</td>\n      <td>0.000000</td>\n      <td>0.0</td>\n      <td>0.058824</td>\n    </tr>\n    <tr>\n      <th>3</th>\n      <td>CN Tower, King and Spadina, Railway Lands, Har...</td>\n      <td>0.0</td>\n      <td>0.058824</td>\n      <td>0.058824</td>\n      <td>0.058824</td>\n      <td>0.117647</td>\n      <td>0.176471</td>\n      <td>0.117647</td>\n      <td>0.0</td>\n      <td>0.0</td>\n      <td>0.0</td>\n      <td>0.000000</td>\n      <td>0.000000</td>\n      <td>0.0</td>\n      <td>0.0</td>\n      <td>0.000000</td>\n      <td>0.000000</td>\n      <td>0.0</td>\n      <td>0.000000</td>\n      <td>0.000000</td>\n      <td>0.0</td>\n      <td>0.058824</td>\n      <td>0.0</td>\n      <td>0.000000</td>\n      <td>0.000000</td>\n      <td>0.0</td>\n      <td>0.000000</td>\n      <td>0.0</td>\n      <td>0.0</td>\n      <td>0.000000</td>\n      <td>0.058824</td>\n      <td>0.0</td>\n      <td>0.0</td>\n      <td>0.000000</td>\n      <td>0.000000</td>\n      <td>0.000000</td>\n      <td>0.0</td>\n      <td>0.000000</td>\n      <td>0.000000</td>\n      <td>0.0</td>\n      <td>0.0</td>\n      <td>0.000000</td>\n      <td>0.000000</td>\n      <td>0.0</td>\n      <td>0.0</td>\n      <td>0.0</td>\n      <td>0.0</td>\n      <td>0.000000</td>\n      <td>0.0</td>\n      <td>0.0</td>\n      <td>0.0</td>\n      <td>0.000000</td>\n      <td>0.0</td>\n      <td>0.000000</td>\n      <td>0.058824</td>\n      <td>0.0</td>\n      <td>0.0</td>\n      <td>0.0</td>\n      <td>0.0</td>\n      <td>0.0</td>\n      <td>0.000000</td>\n      <td>0.000000</td>\n      <td>0.000000</td>\n      <td>0.000000</td>\n      <td>0.0</td>\n      <td>0.0</td>\n      <td>0.0</td>\n      <td>0.000000</td>\n      <td>0.0</td>\n      <td>0.0</td>\n      <td>0.0</td>\n      <td>0.0</td>\n      <td>0.000000</td>\n      <td>0.000000</td>\n      <td>0.000000</td>\n      <td>0.000000</td>\n      <td>0.0</td>\n      <td>0.0</td>\n      <td>0.0</td>\n      <td>0.000000</td>\n      <td>0.0</td>\n      <td>0.000000</td>\n      <td>0.0</td>\n      <td>0.0</td>\n      <td>0.0</td>\n      <td>0.000000</td>\n      <td>0.000000</td>\n      <td>0.000000</td>\n      <td>0.0</td>\n      <td>0.0</td>\n      <td>0.000000</td>\n      <td>0.0</td>\n      <td>0.0</td>\n      <td>0.0</td>\n      <td>0.0</td>\n      <td>0.0</td>\n      <td>0.000000</td>\n      <td>0.000000</td>\n      <td>0.0</td>\n      <td>0.0</td>\n      <td>0.0</td>\n      <td>0.000000</td>\n      <td>0.0</td>\n      <td>0.000000</td>\n      <td>0.000000</td>\n      <td>0.0</td>\n      <td>0.000000</td>\n      <td>0.0</td>\n      <td>0.0</td>\n      <td>0.0</td>\n      <td>0.0</td>\n      <td>0.0</td>\n      <td>0.0</td>\n      <td>0.000000</td>\n      <td>0.000000</td>\n      <td>0.000000</td>\n      <td>0.000000</td>\n      <td>0.000000</td>\n      <td>0.058824</td>\n      <td>0.0</td>\n      <td>0.0</td>\n      <td>0.0</td>\n      <td>0.0</td>\n      <td>0.0</td>\n      <td>0.0</td>\n      <td>0.0</td>\n      <td>0.000000</td>\n      <td>0.0</td>\n      <td>0.000000</td>\n      <td>0.000000</td>\n      <td>0.0</td>\n      <td>0.000000</td>\n      <td>0.000000</td>\n      <td>0.000000</td>\n      <td>0.000000</td>\n      <td>0.000000</td>\n      <td>0.0</td>\n      <td>0.0</td>\n      <td>0.000000</td>\n      <td>0.0</td>\n      <td>0.0</td>\n      <td>0.000000</td>\n      <td>0.0</td>\n      <td>0.000000</td>\n      <td>0.000000</td>\n      <td>0.0</td>\n      <td>0.0</td>\n      <td>0.0</td>\n      <td>0.0</td>\n      <td>0.000000</td>\n      <td>0.0</td>\n      <td>0.000000</td>\n      <td>0.000000</td>\n      <td>0.000000</td>\n      <td>0.0</td>\n      <td>0.0</td>\n      <td>0.0</td>\n      <td>0.0</td>\n      <td>0.000000</td>\n      <td>0.0</td>\n      <td>0.000000</td>\n      <td>0.000000</td>\n      <td>0.0</td>\n      <td>0.000000</td>\n      <td>0.0</td>\n      <td>0.0</td>\n      <td>0.0</td>\n      <td>0.0</td>\n      <td>0.000000</td>\n      <td>0.000000</td>\n      <td>0.000000</td>\n      <td>0.000000</td>\n      <td>0.000000</td>\n      <td>0.058824</td>\n      <td>0.0</td>\n      <td>0.0</td>\n      <td>0.000000</td>\n      <td>0.0</td>\n      <td>0.0</td>\n      <td>0.0</td>\n      <td>0.0</td>\n      <td>0.058824</td>\n      <td>0.000000</td>\n      <td>0.0</td>\n      <td>0.0</td>\n      <td>0.000000</td>\n      <td>0.0</td>\n      <td>0.000000</td>\n      <td>0.0</td>\n      <td>0.058824</td>\n      <td>0.000000</td>\n      <td>0.0</td>\n      <td>0.000000</td>\n      <td>0.000000</td>\n      <td>0.0</td>\n      <td>0.0</td>\n      <td>0.0</td>\n      <td>0.0</td>\n      <td>0.0</td>\n      <td>0.0</td>\n      <td>0.000000</td>\n      <td>0.0</td>\n      <td>0.0</td>\n      <td>0.0</td>\n      <td>0.000000</td>\n      <td>0.0</td>\n      <td>0.000000</td>\n      <td>0.0</td>\n      <td>0.0</td>\n      <td>0.000000</td>\n      <td>0.0</td>\n      <td>0.0</td>\n      <td>0.000000</td>\n      <td>0.0</td>\n      <td>0.0</td>\n      <td>0.0</td>\n      <td>0.0</td>\n      <td>0.000000</td>\n      <td>0.0</td>\n      <td>0.0</td>\n      <td>0.0</td>\n      <td>0.0</td>\n      <td>0.0</td>\n      <td>0.000000</td>\n      <td>0.0</td>\n      <td>0.0</td>\n      <td>0.000000</td>\n      <td>0.0</td>\n      <td>0.000000</td>\n    </tr>\n    <tr>\n      <th>4</th>\n      <td>Central Bay Street</td>\n      <td>0.0</td>\n      <td>0.000000</td>\n      <td>0.000000</td>\n      <td>0.000000</td>\n      <td>0.000000</td>\n      <td>0.000000</td>\n      <td>0.000000</td>\n      <td>0.0</td>\n      <td>0.0</td>\n      <td>0.0</td>\n      <td>0.000000</td>\n      <td>0.015385</td>\n      <td>0.0</td>\n      <td>0.0</td>\n      <td>0.000000</td>\n      <td>0.000000</td>\n      <td>0.0</td>\n      <td>0.000000</td>\n      <td>0.000000</td>\n      <td>0.0</td>\n      <td>0.015385</td>\n      <td>0.0</td>\n      <td>0.000000</td>\n      <td>0.000000</td>\n      <td>0.0</td>\n      <td>0.000000</td>\n      <td>0.0</td>\n      <td>0.0</td>\n      <td>0.000000</td>\n      <td>0.000000</td>\n      <td>0.0</td>\n      <td>0.0</td>\n      <td>0.000000</td>\n      <td>0.000000</td>\n      <td>0.030769</td>\n      <td>0.0</td>\n      <td>0.030769</td>\n      <td>0.000000</td>\n      <td>0.0</td>\n      <td>0.0</td>\n      <td>0.000000</td>\n      <td>0.046154</td>\n      <td>0.0</td>\n      <td>0.0</td>\n      <td>0.0</td>\n      <td>0.0</td>\n      <td>0.000000</td>\n      <td>0.0</td>\n      <td>0.0</td>\n      <td>0.0</td>\n      <td>0.000000</td>\n      <td>0.0</td>\n      <td>0.000000</td>\n      <td>0.184615</td>\n      <td>0.0</td>\n      <td>0.0</td>\n      <td>0.0</td>\n      <td>0.0</td>\n      <td>0.0</td>\n      <td>0.000000</td>\n      <td>0.015385</td>\n      <td>0.000000</td>\n      <td>0.000000</td>\n      <td>0.0</td>\n      <td>0.0</td>\n      <td>0.0</td>\n      <td>0.000000</td>\n      <td>0.0</td>\n      <td>0.0</td>\n      <td>0.0</td>\n      <td>0.0</td>\n      <td>0.030769</td>\n      <td>0.030769</td>\n      <td>0.015385</td>\n      <td>0.015385</td>\n      <td>0.0</td>\n      <td>0.0</td>\n      <td>0.0</td>\n      <td>0.015385</td>\n      <td>0.0</td>\n      <td>0.000000</td>\n      <td>0.0</td>\n      <td>0.0</td>\n      <td>0.0</td>\n      <td>0.015385</td>\n      <td>0.000000</td>\n      <td>0.000000</td>\n      <td>0.0</td>\n      <td>0.0</td>\n      <td>0.000000</td>\n      <td>0.0</td>\n      <td>0.0</td>\n      <td>0.0</td>\n      <td>0.0</td>\n      <td>0.0</td>\n      <td>0.000000</td>\n      <td>0.015385</td>\n      <td>0.0</td>\n      <td>0.0</td>\n      <td>0.0</td>\n      <td>0.015385</td>\n      <td>0.0</td>\n      <td>0.000000</td>\n      <td>0.000000</td>\n      <td>0.0</td>\n      <td>0.015385</td>\n      <td>0.0</td>\n      <td>0.0</td>\n      <td>0.0</td>\n      <td>0.0</td>\n      <td>0.0</td>\n      <td>0.0</td>\n      <td>0.000000</td>\n      <td>0.000000</td>\n      <td>0.000000</td>\n      <td>0.000000</td>\n      <td>0.015385</td>\n      <td>0.000000</td>\n      <td>0.0</td>\n      <td>0.0</td>\n      <td>0.0</td>\n      <td>0.0</td>\n      <td>0.0</td>\n      <td>0.0</td>\n      <td>0.0</td>\n      <td>0.015385</td>\n      <td>0.0</td>\n      <td>0.015385</td>\n      <td>0.015385</td>\n      <td>0.0</td>\n      <td>0.000000</td>\n      <td>0.000000</td>\n      <td>0.061538</td>\n      <td>0.030769</td>\n      <td>0.000000</td>\n      <td>0.0</td>\n      <td>0.0</td>\n      <td>0.015385</td>\n      <td>0.0</td>\n      <td>0.0</td>\n      <td>0.000000</td>\n      <td>0.0</td>\n      <td>0.000000</td>\n      <td>0.000000</td>\n      <td>0.0</td>\n      <td>0.0</td>\n      <td>0.0</td>\n      <td>0.0</td>\n      <td>0.015385</td>\n      <td>0.0</td>\n      <td>0.015385</td>\n      <td>0.015385</td>\n      <td>0.015385</td>\n      <td>0.0</td>\n      <td>0.0</td>\n      <td>0.0</td>\n      <td>0.0</td>\n      <td>0.000000</td>\n      <td>0.0</td>\n      <td>0.015385</td>\n      <td>0.000000</td>\n      <td>0.0</td>\n      <td>0.015385</td>\n      <td>0.0</td>\n      <td>0.0</td>\n      <td>0.0</td>\n      <td>0.0</td>\n      <td>0.015385</td>\n      <td>0.000000</td>\n      <td>0.000000</td>\n      <td>0.000000</td>\n      <td>0.015385</td>\n      <td>0.000000</td>\n      <td>0.0</td>\n      <td>0.0</td>\n      <td>0.015385</td>\n      <td>0.0</td>\n      <td>0.0</td>\n      <td>0.0</td>\n      <td>0.0</td>\n      <td>0.000000</td>\n      <td>0.000000</td>\n      <td>0.0</td>\n      <td>0.0</td>\n      <td>0.030769</td>\n      <td>0.0</td>\n      <td>0.046154</td>\n      <td>0.0</td>\n      <td>0.000000</td>\n      <td>0.015385</td>\n      <td>0.0</td>\n      <td>0.000000</td>\n      <td>0.000000</td>\n      <td>0.0</td>\n      <td>0.0</td>\n      <td>0.0</td>\n      <td>0.0</td>\n      <td>0.0</td>\n      <td>0.0</td>\n      <td>0.015385</td>\n      <td>0.0</td>\n      <td>0.0</td>\n      <td>0.0</td>\n      <td>0.000000</td>\n      <td>0.0</td>\n      <td>0.000000</td>\n      <td>0.0</td>\n      <td>0.0</td>\n      <td>0.015385</td>\n      <td>0.0</td>\n      <td>0.0</td>\n      <td>0.000000</td>\n      <td>0.0</td>\n      <td>0.0</td>\n      <td>0.0</td>\n      <td>0.0</td>\n      <td>0.015385</td>\n      <td>0.0</td>\n      <td>0.0</td>\n      <td>0.0</td>\n      <td>0.0</td>\n      <td>0.0</td>\n      <td>0.015385</td>\n      <td>0.0</td>\n      <td>0.0</td>\n      <td>0.015385</td>\n      <td>0.0</td>\n      <td>0.015385</td>\n    </tr>\n  </tbody>\n</table>\n</div>"
     },
     "metadata": {},
     "execution_count": 43
    }
   ],
   "source": [
    "toronto_grouped = toronto_onehot.groupby('Neighborhood').mean().reset_index()\n",
    "toronto_grouped.head()"
   ]
  },
  {
   "cell_type": "code",
   "execution_count": 44,
   "metadata": {},
   "outputs": [],
   "source": [
    "def return_most_common_venues(row, num_top_venues):\n",
    "    row_categories = row.iloc[1:]\n",
    "    row_categories_sorted = row_categories.sort_values(ascending=False)\n",
    "    \n",
    "    return row_categories_sorted.index.values[0:num_top_venues]"
   ]
  },
  {
   "cell_type": "code",
   "execution_count": 46,
   "metadata": {},
   "outputs": [
    {
     "output_type": "execute_result",
     "data": {
      "text/plain": "                                        Neighborhood 1st Most Common Venue  \\\n0                                        Berczy Park           Coffee Shop   \n1       Brockton, Parkdale Village, Exhibition Place                  Café   \n2  Business reply mail Processing Centre, South C...    Light Rail Station   \n3  CN Tower, King and Spadina, Railway Lands, Har...       Airport Service   \n4                                 Central Bay Street           Coffee Shop   \n\n  2nd Most Common Venue 3rd Most Common Venue   4th Most Common Venue  \\\n0           Cheese Shop          Cocktail Bar      Seafood Restaurant   \n1           Coffee Shop        Breakfast Spot  Furniture / Home Store   \n2         Auto Workshop                  Park              Comic Shop   \n3        Airport Lounge      Airport Terminal        Sculpture Garden   \n4    Italian Restaurant        Sandwich Place                    Café   \n\n  5th Most Common Venue 6th Most Common Venue 7th Most Common Venue  \\\n0                Bakery            Restaurant                  Café   \n1                   Bar            Restaurant                Bakery   \n2           Pizza Place            Restaurant               Butcher   \n3                   Bar           Coffee Shop         Boat or Ferry   \n4      Department Store          Dessert Shop   Japanese Restaurant   \n\n  8th Most Common Venue 9th Most Common Venue 10th Most Common Venue  \n0              Beer Bar        Farmers Market                 Lounge  \n1    Italian Restaurant          Climbing Gym           Intersection  \n2         Burrito Place            Skate Park                Brewery  \n3       Harbor / Marina   Rental Car Location                  Plane  \n4       Bubble Tea Shop           Salad Place           Burger Joint  ",
      "text/html": "<div>\n<style scoped>\n    .dataframe tbody tr th:only-of-type {\n        vertical-align: middle;\n    }\n\n    .dataframe tbody tr th {\n        vertical-align: top;\n    }\n\n    .dataframe thead th {\n        text-align: right;\n    }\n</style>\n<table border=\"1\" class=\"dataframe\">\n  <thead>\n    <tr style=\"text-align: right;\">\n      <th></th>\n      <th>Neighborhood</th>\n      <th>1st Most Common Venue</th>\n      <th>2nd Most Common Venue</th>\n      <th>3rd Most Common Venue</th>\n      <th>4th Most Common Venue</th>\n      <th>5th Most Common Venue</th>\n      <th>6th Most Common Venue</th>\n      <th>7th Most Common Venue</th>\n      <th>8th Most Common Venue</th>\n      <th>9th Most Common Venue</th>\n      <th>10th Most Common Venue</th>\n    </tr>\n  </thead>\n  <tbody>\n    <tr>\n      <th>0</th>\n      <td>Berczy Park</td>\n      <td>Coffee Shop</td>\n      <td>Cheese Shop</td>\n      <td>Cocktail Bar</td>\n      <td>Seafood Restaurant</td>\n      <td>Bakery</td>\n      <td>Restaurant</td>\n      <td>Café</td>\n      <td>Beer Bar</td>\n      <td>Farmers Market</td>\n      <td>Lounge</td>\n    </tr>\n    <tr>\n      <th>1</th>\n      <td>Brockton, Parkdale Village, Exhibition Place</td>\n      <td>Café</td>\n      <td>Coffee Shop</td>\n      <td>Breakfast Spot</td>\n      <td>Furniture / Home Store</td>\n      <td>Bar</td>\n      <td>Restaurant</td>\n      <td>Bakery</td>\n      <td>Italian Restaurant</td>\n      <td>Climbing Gym</td>\n      <td>Intersection</td>\n    </tr>\n    <tr>\n      <th>2</th>\n      <td>Business reply mail Processing Centre, South C...</td>\n      <td>Light Rail Station</td>\n      <td>Auto Workshop</td>\n      <td>Park</td>\n      <td>Comic Shop</td>\n      <td>Pizza Place</td>\n      <td>Restaurant</td>\n      <td>Butcher</td>\n      <td>Burrito Place</td>\n      <td>Skate Park</td>\n      <td>Brewery</td>\n    </tr>\n    <tr>\n      <th>3</th>\n      <td>CN Tower, King and Spadina, Railway Lands, Har...</td>\n      <td>Airport Service</td>\n      <td>Airport Lounge</td>\n      <td>Airport Terminal</td>\n      <td>Sculpture Garden</td>\n      <td>Bar</td>\n      <td>Coffee Shop</td>\n      <td>Boat or Ferry</td>\n      <td>Harbor / Marina</td>\n      <td>Rental Car Location</td>\n      <td>Plane</td>\n    </tr>\n    <tr>\n      <th>4</th>\n      <td>Central Bay Street</td>\n      <td>Coffee Shop</td>\n      <td>Italian Restaurant</td>\n      <td>Sandwich Place</td>\n      <td>Café</td>\n      <td>Department Store</td>\n      <td>Dessert Shop</td>\n      <td>Japanese Restaurant</td>\n      <td>Bubble Tea Shop</td>\n      <td>Salad Place</td>\n      <td>Burger Joint</td>\n    </tr>\n  </tbody>\n</table>\n</div>"
     },
     "metadata": {},
     "execution_count": 46
    }
   ],
   "source": [
    "num_top_venues = 10\n",
    "\n",
    "indicators = ['st', 'nd', 'rd']\n",
    "\n",
    "# create columns according to number of top venues\n",
    "columns = ['Neighborhood']\n",
    "for ind in np.arange(num_top_venues):\n",
    "    try:\n",
    "        columns.append('{}{} Most Common Venue'.format(ind+1, indicators[ind]))\n",
    "    except:\n",
    "        columns.append('{}th Most Common Venue'.format(ind+1))\n",
    "\n",
    "# create a new dataframe\n",
    "neighborhoods_venues_sorted = pd.DataFrame(columns=columns)\n",
    "neighborhoods_venues_sorted['Neighborhood'] = toronto_grouped['Neighborhood']\n",
    "\n",
    "for ind in np.arange(toronto_grouped.shape[0]):\n",
    "    neighborhoods_venues_sorted.iloc[ind, 1:] = return_most_common_venues(toronto_grouped.iloc[ind, :], num_top_venues)\n",
    "\n",
    "neighborhoods_venues_sorted.head()"
   ]
  },
  {
   "cell_type": "code",
   "execution_count": 47,
   "metadata": {},
   "outputs": [
    {
     "output_type": "execute_result",
     "data": {
      "text/plain": "array([2, 2, 2, 2, 2, 2, 2, 2, 2, 2])"
     },
     "metadata": {},
     "execution_count": 47
    }
   ],
   "source": [
    "# set number of clusters\n",
    "kclusters = 5\n",
    "\n",
    "toronto_grouped_clustering = toronto_grouped.drop('Neighborhood', 1)\n",
    "\n",
    "# run k-means clustering\n",
    "kmeans = KMeans(n_clusters=kclusters, random_state=0).fit(toronto_grouped_clustering)\n",
    "\n",
    "# check cluster labels generated for each row in the dataframe\n",
    "kmeans.labels_[0:10]"
   ]
  },
  {
   "cell_type": "code",
   "execution_count": 48,
   "metadata": {},
   "outputs": [
    {
     "output_type": "execute_result",
     "data": {
      "text/plain": "   Postalcode          Borough                    Neighborhood   Latitude  \\\n37        M4E     East Toronto                     The Beaches  43.676357   \n41        M4K     East Toronto    The Danforth West, Riverdale  43.679557   \n42        M4L     East Toronto  India Bazaar, The Beaches West  43.668999   \n43        M4M     East Toronto                 Studio District  43.659526   \n44        M4N  Central Toronto                   Lawrence Park  43.728020   \n\n    Longitude  Cluster Labels 1st Most Common Venue 2nd Most Common Venue  \\\n37 -79.293031               0      Asian Restaurant                 Trail   \n41 -79.352188               2      Greek Restaurant           Coffee Shop   \n42 -79.315572               2                  Park                   Pub   \n43 -79.340923               2                  Café                Bakery   \n44 -79.388790               1                  Park              Bus Line   \n\n   3rd Most Common Venue 4th Most Common Venue   5th Most Common Venue  \\\n37                   Pub     Health Food Store     Dumpling Restaurant   \n41    Italian Restaurant        Ice Cream Shop  Furniture / Home Store   \n42          Liquor Store         Burrito Place          Sandwich Place   \n43           Coffee Shop             Gastropub                 Brewery   \n44           Swim School      Department Store       Electronics Store   \n\n          6th Most Common Venue 7th Most Common Venue  \\\n37                   Donut Shop      Doner Restaurant   \n41                   Restaurant       Bubble Tea Shop   \n42           Italian Restaurant          Intersection   \n43          American Restaurant           Yoga Studio   \n44  Eastern European Restaurant   Dumpling Restaurant   \n\n          8th Most Common Venue 9th Most Common Venue 10th Most Common Venue  \n37  Eastern European Restaurant          Dance Studio                Dog Run  \n41                       Bakery                   Pub            Pizza Place  \n42                   Restaurant  Fast Food Restaurant         Ice Cream Shop  \n43      Comfort Food Restaurant    Seafood Restaurant         Sandwich Place  \n44                   Donut Shop      Doner Restaurant                Dog Run  ",
      "text/html": "<div>\n<style scoped>\n    .dataframe tbody tr th:only-of-type {\n        vertical-align: middle;\n    }\n\n    .dataframe tbody tr th {\n        vertical-align: top;\n    }\n\n    .dataframe thead th {\n        text-align: right;\n    }\n</style>\n<table border=\"1\" class=\"dataframe\">\n  <thead>\n    <tr style=\"text-align: right;\">\n      <th></th>\n      <th>Postalcode</th>\n      <th>Borough</th>\n      <th>Neighborhood</th>\n      <th>Latitude</th>\n      <th>Longitude</th>\n      <th>Cluster Labels</th>\n      <th>1st Most Common Venue</th>\n      <th>2nd Most Common Venue</th>\n      <th>3rd Most Common Venue</th>\n      <th>4th Most Common Venue</th>\n      <th>5th Most Common Venue</th>\n      <th>6th Most Common Venue</th>\n      <th>7th Most Common Venue</th>\n      <th>8th Most Common Venue</th>\n      <th>9th Most Common Venue</th>\n      <th>10th Most Common Venue</th>\n    </tr>\n  </thead>\n  <tbody>\n    <tr>\n      <th>37</th>\n      <td>M4E</td>\n      <td>East Toronto</td>\n      <td>The Beaches</td>\n      <td>43.676357</td>\n      <td>-79.293031</td>\n      <td>0</td>\n      <td>Asian Restaurant</td>\n      <td>Trail</td>\n      <td>Pub</td>\n      <td>Health Food Store</td>\n      <td>Dumpling Restaurant</td>\n      <td>Donut Shop</td>\n      <td>Doner Restaurant</td>\n      <td>Eastern European Restaurant</td>\n      <td>Dance Studio</td>\n      <td>Dog Run</td>\n    </tr>\n    <tr>\n      <th>41</th>\n      <td>M4K</td>\n      <td>East Toronto</td>\n      <td>The Danforth West, Riverdale</td>\n      <td>43.679557</td>\n      <td>-79.352188</td>\n      <td>2</td>\n      <td>Greek Restaurant</td>\n      <td>Coffee Shop</td>\n      <td>Italian Restaurant</td>\n      <td>Ice Cream Shop</td>\n      <td>Furniture / Home Store</td>\n      <td>Restaurant</td>\n      <td>Bubble Tea Shop</td>\n      <td>Bakery</td>\n      <td>Pub</td>\n      <td>Pizza Place</td>\n    </tr>\n    <tr>\n      <th>42</th>\n      <td>M4L</td>\n      <td>East Toronto</td>\n      <td>India Bazaar, The Beaches West</td>\n      <td>43.668999</td>\n      <td>-79.315572</td>\n      <td>2</td>\n      <td>Park</td>\n      <td>Pub</td>\n      <td>Liquor Store</td>\n      <td>Burrito Place</td>\n      <td>Sandwich Place</td>\n      <td>Italian Restaurant</td>\n      <td>Intersection</td>\n      <td>Restaurant</td>\n      <td>Fast Food Restaurant</td>\n      <td>Ice Cream Shop</td>\n    </tr>\n    <tr>\n      <th>43</th>\n      <td>M4M</td>\n      <td>East Toronto</td>\n      <td>Studio District</td>\n      <td>43.659526</td>\n      <td>-79.340923</td>\n      <td>2</td>\n      <td>Café</td>\n      <td>Bakery</td>\n      <td>Coffee Shop</td>\n      <td>Gastropub</td>\n      <td>Brewery</td>\n      <td>American Restaurant</td>\n      <td>Yoga Studio</td>\n      <td>Comfort Food Restaurant</td>\n      <td>Seafood Restaurant</td>\n      <td>Sandwich Place</td>\n    </tr>\n    <tr>\n      <th>44</th>\n      <td>M4N</td>\n      <td>Central Toronto</td>\n      <td>Lawrence Park</td>\n      <td>43.728020</td>\n      <td>-79.388790</td>\n      <td>1</td>\n      <td>Park</td>\n      <td>Bus Line</td>\n      <td>Swim School</td>\n      <td>Department Store</td>\n      <td>Electronics Store</td>\n      <td>Eastern European Restaurant</td>\n      <td>Dumpling Restaurant</td>\n      <td>Donut Shop</td>\n      <td>Doner Restaurant</td>\n      <td>Dog Run</td>\n    </tr>\n  </tbody>\n</table>\n</div>"
     },
     "metadata": {},
     "execution_count": 48
    }
   ],
   "source": [
    "# add clustering labels\n",
    "neighborhoods_venues_sorted.insert(0, 'Cluster Labels', kmeans.labels_)\n",
    "\n",
    "toronto_merged = toronto_data\n",
    "\n",
    "# merge toronto_grouped with toronto_data to add latitude/longitude for each neighborhood\n",
    "toronto_merged = toronto_merged.join(neighborhoods_venues_sorted.set_index('Neighborhood'), on='Neighborhood')\n",
    "\n",
    "toronto_merged.head()"
   ]
  },
  {
   "cell_type": "code",
   "execution_count": 49,
   "metadata": {},
   "outputs": [
    {
     "output_type": "execute_result",
     "data": {
      "text/plain": "   Cluster Labels                                       Neighborhood  \\\n0               2                                        Berczy Park   \n1               2       Brockton, Parkdale Village, Exhibition Place   \n2               2  Business reply mail Processing Centre, South C...   \n3               2  CN Tower, King and Spadina, Railway Lands, Har...   \n4               2                                 Central Bay Street   \n\n  1st Most Common Venue 2nd Most Common Venue 3rd Most Common Venue  \\\n0           Coffee Shop           Cheese Shop          Cocktail Bar   \n1                  Café           Coffee Shop        Breakfast Spot   \n2    Light Rail Station         Auto Workshop                  Park   \n3       Airport Service        Airport Lounge      Airport Terminal   \n4           Coffee Shop    Italian Restaurant        Sandwich Place   \n\n    4th Most Common Venue 5th Most Common Venue 6th Most Common Venue  \\\n0      Seafood Restaurant                Bakery            Restaurant   \n1  Furniture / Home Store                   Bar            Restaurant   \n2              Comic Shop           Pizza Place            Restaurant   \n3        Sculpture Garden                   Bar           Coffee Shop   \n4                    Café      Department Store          Dessert Shop   \n\n  7th Most Common Venue 8th Most Common Venue 9th Most Common Venue  \\\n0                  Café              Beer Bar        Farmers Market   \n1                Bakery    Italian Restaurant          Climbing Gym   \n2               Butcher         Burrito Place            Skate Park   \n3         Boat or Ferry       Harbor / Marina   Rental Car Location   \n4   Japanese Restaurant       Bubble Tea Shop           Salad Place   \n\n  10th Most Common Venue  \n0                 Lounge  \n1           Intersection  \n2                Brewery  \n3                  Plane  \n4           Burger Joint  ",
      "text/html": "<div>\n<style scoped>\n    .dataframe tbody tr th:only-of-type {\n        vertical-align: middle;\n    }\n\n    .dataframe tbody tr th {\n        vertical-align: top;\n    }\n\n    .dataframe thead th {\n        text-align: right;\n    }\n</style>\n<table border=\"1\" class=\"dataframe\">\n  <thead>\n    <tr style=\"text-align: right;\">\n      <th></th>\n      <th>Cluster Labels</th>\n      <th>Neighborhood</th>\n      <th>1st Most Common Venue</th>\n      <th>2nd Most Common Venue</th>\n      <th>3rd Most Common Venue</th>\n      <th>4th Most Common Venue</th>\n      <th>5th Most Common Venue</th>\n      <th>6th Most Common Venue</th>\n      <th>7th Most Common Venue</th>\n      <th>8th Most Common Venue</th>\n      <th>9th Most Common Venue</th>\n      <th>10th Most Common Venue</th>\n    </tr>\n  </thead>\n  <tbody>\n    <tr>\n      <th>0</th>\n      <td>2</td>\n      <td>Berczy Park</td>\n      <td>Coffee Shop</td>\n      <td>Cheese Shop</td>\n      <td>Cocktail Bar</td>\n      <td>Seafood Restaurant</td>\n      <td>Bakery</td>\n      <td>Restaurant</td>\n      <td>Café</td>\n      <td>Beer Bar</td>\n      <td>Farmers Market</td>\n      <td>Lounge</td>\n    </tr>\n    <tr>\n      <th>1</th>\n      <td>2</td>\n      <td>Brockton, Parkdale Village, Exhibition Place</td>\n      <td>Café</td>\n      <td>Coffee Shop</td>\n      <td>Breakfast Spot</td>\n      <td>Furniture / Home Store</td>\n      <td>Bar</td>\n      <td>Restaurant</td>\n      <td>Bakery</td>\n      <td>Italian Restaurant</td>\n      <td>Climbing Gym</td>\n      <td>Intersection</td>\n    </tr>\n    <tr>\n      <th>2</th>\n      <td>2</td>\n      <td>Business reply mail Processing Centre, South C...</td>\n      <td>Light Rail Station</td>\n      <td>Auto Workshop</td>\n      <td>Park</td>\n      <td>Comic Shop</td>\n      <td>Pizza Place</td>\n      <td>Restaurant</td>\n      <td>Butcher</td>\n      <td>Burrito Place</td>\n      <td>Skate Park</td>\n      <td>Brewery</td>\n    </tr>\n    <tr>\n      <th>3</th>\n      <td>2</td>\n      <td>CN Tower, King and Spadina, Railway Lands, Har...</td>\n      <td>Airport Service</td>\n      <td>Airport Lounge</td>\n      <td>Airport Terminal</td>\n      <td>Sculpture Garden</td>\n      <td>Bar</td>\n      <td>Coffee Shop</td>\n      <td>Boat or Ferry</td>\n      <td>Harbor / Marina</td>\n      <td>Rental Car Location</td>\n      <td>Plane</td>\n    </tr>\n    <tr>\n      <th>4</th>\n      <td>2</td>\n      <td>Central Bay Street</td>\n      <td>Coffee Shop</td>\n      <td>Italian Restaurant</td>\n      <td>Sandwich Place</td>\n      <td>Café</td>\n      <td>Department Store</td>\n      <td>Dessert Shop</td>\n      <td>Japanese Restaurant</td>\n      <td>Bubble Tea Shop</td>\n      <td>Salad Place</td>\n      <td>Burger Joint</td>\n    </tr>\n  </tbody>\n</table>\n</div>"
     },
     "metadata": {},
     "execution_count": 49
    }
   ],
   "source": [
    "neighborhoods_venues_sorted.head()"
   ]
  },
  {
   "cell_type": "code",
   "execution_count": 50,
   "metadata": {
    "tags": []
   },
   "outputs": [
    {
     "output_type": "stream",
     "name": "stdout",
     "text": "The geograpical coordinate of Toronto, CA are 43.6534817, -79.3839347.\n"
    }
   ],
   "source": [
    "address = 'Toronto, CA'\n",
    "\n",
    "geolocator = Nominatim(user_agent=\"ny_explorer\")\n",
    "location = geolocator.geocode(address)\n",
    "latitude = location.latitude\n",
    "longitude = location.longitude\n",
    "print('The geograpical coordinate of Toronto, CA are {}, {}.'.format(latitude, longitude))"
   ]
  },
  {
   "cell_type": "code",
   "execution_count": 51,
   "metadata": {},
   "outputs": [
    {
     "output_type": "error",
     "ename": "NameError",
     "evalue": "name 'folium' is not defined",
     "traceback": [
      "\u001b[1;31m---------------------------------------------------------------------------\u001b[0m",
      "\u001b[1;31mNameError\u001b[0m                                 Traceback (most recent call last)",
      "\u001b[1;32m<ipython-input-51-e26996344d83>\u001b[0m in \u001b[0;36m<module>\u001b[1;34m\u001b[0m\n\u001b[1;32m----> 1\u001b[1;33m \u001b[0mmap_clusters\u001b[0m \u001b[1;33m=\u001b[0m \u001b[0mfolium\u001b[0m\u001b[1;33m.\u001b[0m\u001b[0mMap\u001b[0m\u001b[1;33m(\u001b[0m\u001b[0mlocation\u001b[0m\u001b[1;33m=\u001b[0m\u001b[1;33m[\u001b[0m\u001b[0mlatitude\u001b[0m\u001b[1;33m,\u001b[0m \u001b[0mlongitude\u001b[0m\u001b[1;33m]\u001b[0m\u001b[1;33m,\u001b[0m \u001b[0mzoom_start\u001b[0m\u001b[1;33m=\u001b[0m\u001b[1;36m11\u001b[0m\u001b[1;33m)\u001b[0m\u001b[1;33m\u001b[0m\u001b[1;33m\u001b[0m\u001b[0m\n\u001b[0m\u001b[0;32m      2\u001b[0m \u001b[1;33m\u001b[0m\u001b[0m\n\u001b[0;32m      3\u001b[0m \u001b[1;31m# set color scheme for the clusters\u001b[0m\u001b[1;33m\u001b[0m\u001b[1;33m\u001b[0m\u001b[1;33m\u001b[0m\u001b[0m\n\u001b[0;32m      4\u001b[0m \u001b[0mx\u001b[0m \u001b[1;33m=\u001b[0m \u001b[0mnp\u001b[0m\u001b[1;33m.\u001b[0m\u001b[0marange\u001b[0m\u001b[1;33m(\u001b[0m\u001b[0mkclusters\u001b[0m\u001b[1;33m)\u001b[0m\u001b[1;33m\u001b[0m\u001b[1;33m\u001b[0m\u001b[0m\n\u001b[0;32m      5\u001b[0m \u001b[0mys\u001b[0m \u001b[1;33m=\u001b[0m \u001b[1;33m[\u001b[0m\u001b[0mi\u001b[0m \u001b[1;33m+\u001b[0m \u001b[0mx\u001b[0m \u001b[1;33m+\u001b[0m \u001b[1;33m(\u001b[0m\u001b[0mi\u001b[0m\u001b[1;33m*\u001b[0m\u001b[0mx\u001b[0m\u001b[1;33m)\u001b[0m\u001b[1;33m**\u001b[0m\u001b[1;36m2\u001b[0m \u001b[1;32mfor\u001b[0m \u001b[0mi\u001b[0m \u001b[1;32min\u001b[0m \u001b[0mrange\u001b[0m\u001b[1;33m(\u001b[0m\u001b[0mkclusters\u001b[0m\u001b[1;33m)\u001b[0m\u001b[1;33m]\u001b[0m\u001b[1;33m\u001b[0m\u001b[1;33m\u001b[0m\u001b[0m\n",
      "\u001b[1;31mNameError\u001b[0m: name 'folium' is not defined"
     ]
    }
   ],
   "source": [
    "map_clusters = folium.Map(location=[latitude, longitude], zoom_start=11)\n",
    "\n",
    "# set color scheme for the clusters\n",
    "x = np.arange(kclusters)\n",
    "ys = [i + x + (i*x)**2 for i in range(kclusters)]\n",
    "colors_array = cm.rainbow(np.linspace(0, 1, len(ys)))\n",
    "rainbow = [colors.rgb2hex(i) for i in colors_array]\n",
    "\n",
    "# add markers to the map\n",
    "markers_colors = []\n",
    "for lat, lon, poi, cluster in zip(toronto_merged['Latitude'], toronto_merged['Longitude'], toronto_merged['Neighborhood'], toronto_merged['Cluster Labels']):\n",
    "    label = folium.Popup(str(poi) + ' Cluster ' + str(cluster), parse_html=True)\n",
    "    folium.CircleMarker(\n",
    "        [lat, lon],\n",
    "        radius=5,\n",
    "        popup=label,\n",
    "        color=rainbow[cluster-1],\n",
    "        fill=True,\n",
    "        fill_color=rainbow[cluster-1],\n",
    "        fill_opacity=0.7).add_to(map_clusters)\n",
    "       \n",
    "map_clusters"
   ]
  },
  {
   "cell_type": "code",
   "execution_count": null,
   "metadata": {},
   "outputs": [],
   "source": []
  }
 ]
}